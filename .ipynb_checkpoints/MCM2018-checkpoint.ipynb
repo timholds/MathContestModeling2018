{
 "cells": [
  {
   "cell_type": "code",
   "execution_count": 51,
   "metadata": {
    "collapsed": false
   },
   "outputs": [
    {
     "name": "stdout",
     "output_type": "stream",
     "text": [
      "     MSN StateCode  Year  Data\n",
      "0  ABICB        AZ  1960   0.0\n",
      "1  ABICB        AZ  1961   0.0\n",
      "2  ABICB        AZ  1962   0.0\n",
      "3  ABICB        AZ  1963   0.0\n",
      "4  ABICB        AZ  1964   0.0\n"
     ]
    }
   ],
   "source": [
    "import pandas as pd\n",
    "df = pd.read_csv('ProblemCData.csv')\n",
    "print(df.head())"
   ]
  },
  {
   "cell_type": "code",
   "execution_count": 52,
   "metadata": {
    "collapsed": false
   },
   "outputs": [],
   "source": [
    "#df = df.set_index('StateCode')"
   ]
  },
  {
   "cell_type": "code",
   "execution_count": 53,
   "metadata": {
    "collapsed": false
   },
   "outputs": [],
   "source": [
    "# Get the values for 2009 for all the codes for all the states\n",
    "df9 = df[df['Year']==2009]"
   ]
  },
  {
   "cell_type": "code",
   "execution_count": 54,
   "metadata": {
    "collapsed": false
   },
   "outputs": [
    {
     "data": {
      "text/html": [
       "<div>\n",
       "<style scoped>\n",
       "    .dataframe tbody tr th:only-of-type {\n",
       "        vertical-align: middle;\n",
       "    }\n",
       "\n",
       "    .dataframe tbody tr th {\n",
       "        vertical-align: top;\n",
       "    }\n",
       "\n",
       "    .dataframe thead th {\n",
       "        text-align: right;\n",
       "    }\n",
       "</style>\n",
       "<table border=\"1\" class=\"dataframe\">\n",
       "  <thead>\n",
       "    <tr style=\"text-align: right;\">\n",
       "      <th></th>\n",
       "      <th>MSN</th>\n",
       "      <th>StateCode</th>\n",
       "      <th>Year</th>\n",
       "      <th>Data</th>\n",
       "    </tr>\n",
       "  </thead>\n",
       "  <tbody>\n",
       "    <tr>\n",
       "      <th>49</th>\n",
       "      <td>ABICB</td>\n",
       "      <td>AZ</td>\n",
       "      <td>2009</td>\n",
       "      <td>0.00000</td>\n",
       "    </tr>\n",
       "    <tr>\n",
       "      <th>99</th>\n",
       "      <td>ABICB</td>\n",
       "      <td>CA</td>\n",
       "      <td>2009</td>\n",
       "      <td>-87.47043</td>\n",
       "    </tr>\n",
       "    <tr>\n",
       "      <th>149</th>\n",
       "      <td>ABICB</td>\n",
       "      <td>NM</td>\n",
       "      <td>2009</td>\n",
       "      <td>-5.91691</td>\n",
       "    </tr>\n",
       "    <tr>\n",
       "      <th>199</th>\n",
       "      <td>ABICB</td>\n",
       "      <td>TX</td>\n",
       "      <td>2009</td>\n",
       "      <td>-220.19169</td>\n",
       "    </tr>\n",
       "    <tr>\n",
       "      <th>249</th>\n",
       "      <td>ABICP</td>\n",
       "      <td>AZ</td>\n",
       "      <td>2009</td>\n",
       "      <td>0.00000</td>\n",
       "    </tr>\n",
       "  </tbody>\n",
       "</table>\n",
       "</div>"
      ],
      "text/plain": [
       "       MSN StateCode  Year       Data\n",
       "49   ABICB        AZ  2009    0.00000\n",
       "99   ABICB        CA  2009  -87.47043\n",
       "149  ABICB        NM  2009   -5.91691\n",
       "199  ABICB        TX  2009 -220.19169\n",
       "249  ABICP        AZ  2009    0.00000"
      ]
     },
     "execution_count": 54,
     "metadata": {},
     "output_type": "execute_result"
    }
   ],
   "source": [
    "df9.head()"
   ]
  },
  {
   "cell_type": "code",
   "execution_count": 55,
   "metadata": {
    "collapsed": false
   },
   "outputs": [
    {
     "data": {
      "text/plain": [
       "49     ABI\n",
       "99     ABI\n",
       "149    ABI\n",
       "199    ABI\n",
       "249    ABI\n",
       "Name: MSN, dtype: object"
      ]
     },
     "execution_count": 55,
     "metadata": {},
     "output_type": "execute_result"
    }
   ],
   "source": [
    "df9['MSN'].astype(str).str[0:3].head()"
   ]
  },
  {
   "cell_type": "code",
   "execution_count": 88,
   "metadata": {
    "collapsed": false
   },
   "outputs": [],
   "source": [
    "df9_CA = df9[df9['StateCode']== 'CA']\n",
    "df9_AZ = df9[df9['StateCode']== 'AZ']\n",
    "df9_NM = df9[df9['StateCode']== 'NM']\n",
    "df9_TX = df9[df9['StateCode']== 'TX']"
   ]
  },
  {
   "cell_type": "code",
   "execution_count": 104,
   "metadata": {
    "collapsed": false
   },
   "outputs": [
    {
     "data": {
      "text/html": [
       "<div>\n",
       "<style scoped>\n",
       "    .dataframe tbody tr th:only-of-type {\n",
       "        vertical-align: middle;\n",
       "    }\n",
       "\n",
       "    .dataframe tbody tr th {\n",
       "        vertical-align: top;\n",
       "    }\n",
       "\n",
       "    .dataframe thead th {\n",
       "        text-align: right;\n",
       "    }\n",
       "</style>\n",
       "<table border=\"1\" class=\"dataframe\">\n",
       "  <thead>\n",
       "    <tr style=\"text-align: right;\">\n",
       "      <th></th>\n",
       "      <th>MSN</th>\n",
       "      <th>StateCode</th>\n",
       "      <th>Year</th>\n",
       "      <th>Data</th>\n",
       "    </tr>\n",
       "  </thead>\n",
       "  <tbody>\n",
       "    <tr>\n",
       "      <th>99</th>\n",
       "      <td>ABICB</td>\n",
       "      <td>CA</td>\n",
       "      <td>2009</td>\n",
       "      <td>-87.47043</td>\n",
       "    </tr>\n",
       "  </tbody>\n",
       "</table>\n",
       "</div>"
      ],
      "text/plain": [
       "      MSN StateCode  Year      Data\n",
       "99  ABICB        CA  2009 -87.47043"
      ]
     },
     "execution_count": 104,
     "metadata": {},
     "output_type": "execute_result"
    }
   ],
   "source": [
    "df9_CA.head(1)"
   ]
  },
  {
   "cell_type": "code",
   "execution_count": 106,
   "metadata": {
    "collapsed": false
   },
   "outputs": [
    {
     "data": {
      "text/plain": [
       "99     ABI\n",
       "299    ABI\n",
       "499    ARI\n",
       "679    ARI\n",
       "859    ARI\n",
       "Name: MSN, dtype: object"
      ]
     },
     "execution_count": 106,
     "metadata": {},
     "output_type": "execute_result"
    }
   ],
   "source": [
    "df9_CA['MSN'].astype(str).str[0:3].head()"
   ]
  },
  {
   "cell_type": "code",
   "execution_count": 107,
   "metadata": {
    "collapsed": true
   },
   "outputs": [],
   "source": [
    "#df9_CA_new = df9_CA[['Data']].sum(axis=1).where(df['MSN'].astype(str).str[0:3], 0)"
   ]
  },
  {
   "cell_type": "code",
   "execution_count": 114,
   "metadata": {
    "collapsed": true
   },
   "outputs": [],
   "source": [
    "groupedCA = df9_CA.groupby(df9_CA['MSN'].astype(str).str[0:3]).sum().drop(columns ='Year')\n",
    "groupedAZ = df9_CA.groupby(df9_AZ['MSN'].astype(str).str[0:3]).sum().drop(columns ='Year')\n",
    "groupedNM = df9_CA.groupby(df9_NM['MSN'].astype(str).str[0:3]).sum().drop(columns ='Year')\n",
    "groupedTX = df9_CA.groupby(df9_TX['MSN'].astype(str).str[0:3]).sum().drop(columns ='Year')"
   ]
  },
  {
   "cell_type": "code",
   "execution_count": 115,
   "metadata": {
    "collapsed": false
   },
   "outputs": [
    {
     "data": {
      "text/html": [
       "<div>\n",
       "<style scoped>\n",
       "    .dataframe tbody tr th:only-of-type {\n",
       "        vertical-align: middle;\n",
       "    }\n",
       "\n",
       "    .dataframe tbody tr th {\n",
       "        vertical-align: top;\n",
       "    }\n",
       "\n",
       "    .dataframe thead th {\n",
       "        text-align: right;\n",
       "    }\n",
       "</style>\n",
       "<table border=\"1\" class=\"dataframe\">\n",
       "  <thead>\n",
       "    <tr style=\"text-align: right;\">\n",
       "      <th></th>\n",
       "      <th>Data</th>\n",
       "    </tr>\n",
       "    <tr>\n",
       "      <th>MSN</th>\n",
       "      <th></th>\n",
       "    </tr>\n",
       "  </thead>\n",
       "  <tbody>\n",
       "    <tr>\n",
       "      <th>ABI</th>\n",
       "      <td>-104.79817</td>\n",
       "    </tr>\n",
       "    <tr>\n",
       "      <th>ARI</th>\n",
       "      <td>82887.13474</td>\n",
       "    </tr>\n",
       "    <tr>\n",
       "      <th>ART</th>\n",
       "      <td>165774.26948</td>\n",
       "    </tr>\n",
       "    <tr>\n",
       "      <th>AVA</th>\n",
       "      <td>1773.56031</td>\n",
       "    </tr>\n",
       "    <tr>\n",
       "      <th>AVT</th>\n",
       "      <td>3547.12062</td>\n",
       "    </tr>\n",
       "  </tbody>\n",
       "</table>\n",
       "</div>"
      ],
      "text/plain": [
       "             Data\n",
       "MSN              \n",
       "ABI    -104.79817\n",
       "ARI   82887.13474\n",
       "ART  165774.26948\n",
       "AVA    1773.56031\n",
       "AVT    3547.12062"
      ]
     },
     "execution_count": 115,
     "metadata": {},
     "output_type": "execute_result"
    }
   ],
   "source": [
    "groupedCA.head()"
   ]
  },
  {
   "cell_type": "code",
   "execution_count": 126,
   "metadata": {
    "collapsed": false
   },
   "outputs": [
    {
     "data": {
      "image/png": "[encoded data removed]",
      "text/plain": [
       "<matplotlib.figure.Figure at 0x10960dcf8>"
      ]
     },
     "metadata": {},
     "output_type": "display_data"
    }
   ],
   "source": [
    "# Plot relative sources of energy used in a given state\n",
    "import matplotlib.pyplot as plt\n",
    " \n",
    "labels = ['Petroleum', 'Natural Gas', 'Coal and Wood', 'Wind', 'Solar', 'Hydroelectric', 'Geothermal', 'Biomass']\n",
    "colors = ['green', 'green', 'green', 'red', 'red', 'red', 'red', 'red']\n",
    "total_size = 10\n",
    "scaling = 100\n",
    "size = [i/total_size * scaling for i in labels]\n",
    "sizes = [215, 130, 245, 210, 215, 130, 245, 210]\n",
    "explode = (0.1, 0.1, 0.1, 0.1, 0.1, 0.1, 0.1, 0.1)  # explode 1st slice\n",
    " \n",
    "# Plot\n",
    "plt.pie(sizes, explode=explode, labels=labels, colors=colors,\n",
    "        autopct='%1.1f%%', shadow=True, startangle=140)\n",
    " \n",
    "plt.axis('equal')\n",
    "plt.show()"
   ]
  },
  {
   "cell_type": "code",
   "execution_count": null,
   "metadata": {
    "collapsed": false
   },
   "outputs": [],
   "source": [
    "def plot_state_sources_over_time(df):\n",
    "    ''' Make a line chart showing a states relative use of renewable and non renewable energy'''\n",
    "    year = range(1969, 2009) \n",
    "    \n",
    "    ff_total_use = # slice df\n",
    "    rn_total_use = # slice df\n",
    "    total_usage = ff_total_use + rn_total_use\n",
    "    \n",
    "    ff_rel_use = [i / total usage for i in #df.loc[]]\n",
    "    rn_rel_use = [i / total usage for i in #df.loc[]]\n",
    "    \n",
    "    \n",
    "    pop_india = [449.48, 553.57, 696.783, 870.133, 1000.\n",
    "    4, 1309.1]\n",
    "    plt.plot(year, pop_pakistan, color='g')\n",
    "    plt.plot(year, pop_india, color='orange')\n",
    "    plt.xlabel('Countries')\n",
    "    plt.ylabel('Population in million')\n",
    "    plt.title('Pakistan India Population till 2010')\n",
    "    plt.show()\n",
    "\n"
   ]
  },
  {
   "cell_type": "code",
   "execution_count": null,
   "metadata": {
    "collapsed": true
   },
   "outputs": [],
   "source": [
    "# make a dataframe for each state that holds the energy categories"
   ]
  }
 ],
 "metadata": {
  "anaconda-cloud": {},
  "kernelspec": {
   "display_name": "Python [default]",
   "language": "python",
   "name": "python3"
  },
  "language_info": {
   "codemirror_mode": {
    "name": "ipython",
    "version": 3
   },
   "file_extension": ".py",
   "mimetype": "text/x-python",
   "name": "python",
   "nbconvert_exporter": "python",
   "pygments_lexer": "ipython3",
   "version": "3.5.2"
  }
 },
 "nbformat": 4,
 "nbformat_minor": 1
}
