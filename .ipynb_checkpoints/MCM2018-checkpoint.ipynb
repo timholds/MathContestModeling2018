{
 "cells": [
  {
   "cell_type": "code",
   "execution_count": 342,
   "metadata": {
    "collapsed": false
   },
   "outputs": [],
   "source": [
    "import pandas as pd\n",
    "import numpy as np\n",
    "import matplotlib.pyplot as plt"
   ]
  },
  {
   "cell_type": "code",
   "execution_count": 343,
   "metadata": {
    "collapsed": false
   },
   "outputs": [
    {
     "name": "stdout",
     "output_type": "stream",
     "text": [
      "        MSN StateCode  Year        Data\n",
      "4720  BMTCB        AZ  1960  4012.94849\n",
      "4721  BMTCB        AZ  1961  3836.96290\n",
      "4722  BMTCB        AZ  1962  3672.12878\n",
      "4723  BMTCB        AZ  1963  4027.53031\n",
      "4724  BMTCB        AZ  1964  4089.10173\n"
     ]
    }
   ],
   "source": [
    "df = pd.read_csv('ProblemCData.csv')\n",
    "material_codes = ['FFTCB', 'PATCB', 'EMTCB', 'MGTCB', 'JFTCB', 'NGTCB','CLTCB','WWTCB', 'DFTCB', 'RFTCB',\n",
    "'NUEGB','RETCB','HYTCB','GETCB','SOTCB','WYTCB', 'BMTCB'] # list of material codes from excel[]\n",
    "\n",
    "# Data should be a list with len(material_codes (~20)) that is a list of values\n",
    "data = df.loc[df['MSN'].isin(material_codes)]\n",
    "print(data.head())"
   ]
  },
  {
   "cell_type": "code",
   "execution_count": 365,
   "metadata": {
    "collapsed": true
   },
   "outputs": [],
   "source": [
    "def get_materials_numbers(data):\n",
    "    dfPA = data[data.loc[:, 'MSN']== 'PATCB']\n",
    "    dfEM = data[data.loc[:, 'MSN']== 'EMTCB']\n",
    "    dfJF = data[data.loc[:, 'MSN']== 'JFTCB']\n",
    "    dfMG = data[data.loc[:, 'MSN']== 'MGTCB']\n",
    "    dfRF = data[data.loc[:, 'MSN']== 'RFTCB']\n",
    "    dfDF = data[data.loc[:, 'MSN']== 'DFTCB']\n",
    "    petro = dfPA.loc[:, 'Data'].values + dfEM.loc[:, 'Data'].values + dfJF.loc[:, 'Data'].values + dfMG.loc[:, 'Data'].values + dfRF.loc[:, 'Data'].values + dfDF.loc[:, 'Data'].values\n",
    "\n",
    "    dfNG = data[data.loc[:, 'MSN']== 'NGTCB']\n",
    "    natural_gas = dfNG.loc[:, 'Data'].values\n",
    "    \n",
    "    dfCoal = data[data.loc[:, 'MSN']== 'CLTCB']\n",
    "    dfWood = data[data.loc[:, 'MSN']== 'WWTCB'] \n",
    "    coal_wood = dfCoal.loc[:, 'Data'].values + dfWood.loc[:, 'Data'].values \n",
    "    \n",
    "    dfNuc = data[data.loc[:, 'MSN']== 'NUEGB'] \n",
    "    nuclear = dfNuc.loc[:, 'Data'].values\n",
    "    \n",
    "    dfWind = data[data.loc[:, 'MSN']== 'WYTCB'] \n",
    "    wind = dfWind.loc[:, 'Data'].values\n",
    "    \n",
    "    dfSol = data[data.loc[:, 'MSN']== 'SOTCB'] \n",
    "    solar = dfSol.loc[:, 'Data'].values\n",
    "    \n",
    "    dfHydro = data[data.loc[:, 'MSN']== 'HYTCB'] \n",
    "    hydro = dfHydro.loc[:, 'Data'].values\n",
    "    \n",
    "    dfGeo = data[data.loc[:, 'MSN']== 'GETCB'] \n",
    "    geo = dfGeo.loc[:, 'Data'].values\n",
    "    \n",
    "    dfBio = data[data.loc[:, 'MSN']== 'BMTCB'] \n",
    "    bio = dfBio.loc[:, 'Data'].values\n",
    "    \n",
    "    total = petro + natural_gas + coal_wood + nuclear + wind + solar + hydro + geo + bio\n",
    "    \n",
    "    data_values = [petro, natural_gas, coal_wood, nuclear, wind, solar, hydro, geo, bio, total]\n",
    "    data = []\n",
    "    data.extend(data_values)\n",
    "    return data\n",
    "    \n",
    "#get_materials_numbers(data)"
   ]
  },
  {
   "cell_type": "code",
   "execution_count": 366,
   "metadata": {
    "collapsed": false
   },
   "outputs": [],
   "source": [
    "def state_df(df, state):\n",
    "    state_df = df[df['StateCode']== state]\n",
    "    return state_df\n",
    "\n",
    "def year_df(df, year):\n",
    "    year_df = df[df['Year']== year]\n",
    "    return year_df\n"
   ]
  },
  {
   "cell_type": "code",
   "execution_count": 367,
   "metadata": {
    "collapsed": false
   },
   "outputs": [],
   "source": [
    "# Get the values for 2009 for all the codes for all the states\n",
    "df9 = year_df(df, 2009)\n",
    "df9.head(2)\n",
    "\n",
    "dfCA = state_df(df, 'CA')\n",
    "dfCA2009 = year_df(dfCA, 2009)\n",
    "\n",
    "dfAZ = state_df(df, 'AZ')\n",
    "dfAZ2009 = year_df(dfAZ, 2009)\n",
    "\n",
    "dfNM = state_df(df, 'NM')\n",
    "dfNM2009 = year_df(dfNM, 2009)\n",
    "\n",
    "dfTX = state_df(df, 'TX')\n",
    "dfTX2009 = year_df(dfTX, 2009)"
   ]
  },
  {
   "cell_type": "code",
   "execution_count": null,
   "metadata": {
    "collapsed": false,
    "scrolled": true
   },
   "outputs": [],
   "source": []
  },
  {
   "cell_type": "code",
   "execution_count": 370,
   "metadata": {
    "collapsed": false
   },
   "outputs": [
    {
     "data": {
      "text/html": [
       "<div>\n",
       "<style scoped>\n",
       "    .dataframe tbody tr th:only-of-type {\n",
       "        vertical-align: middle;\n",
       "    }\n",
       "\n",
       "    .dataframe tbody tr th {\n",
       "        vertical-align: top;\n",
       "    }\n",
       "\n",
       "    .dataframe thead th {\n",
       "        text-align: right;\n",
       "    }\n",
       "</style>\n",
       "<table border=\"1\" class=\"dataframe\">\n",
       "  <thead>\n",
       "    <tr style=\"text-align: right;\">\n",
       "      <th></th>\n",
       "      <th>Percenage of Total Energy Consumed</th>\n",
       "      <th>Usage in BTUs</th>\n",
       "    </tr>\n",
       "  </thead>\n",
       "  <tbody>\n",
       "    <tr>\n",
       "      <th>Petroleum and Oil</th>\n",
       "      <td>[[0.654131219086]]</td>\n",
       "      <td>[6863216.01832]</td>\n",
       "    </tr>\n",
       "    <tr>\n",
       "      <th>Natural Gas</th>\n",
       "      <td>[[0.227921461678]]</td>\n",
       "      <td>[2391376.808]</td>\n",
       "    </tr>\n",
       "    <tr>\n",
       "      <th>Coal and Wood</th>\n",
       "      <td>[[0.0183530570227]]</td>\n",
       "      <td>[192562.27385]</td>\n",
       "    </tr>\n",
       "    <tr>\n",
       "      <th>Nuclear</th>\n",
       "      <td>[[0.0316665973809]]</td>\n",
       "      <td>[332249.3898]</td>\n",
       "    </tr>\n",
       "    <tr>\n",
       "      <th>Wind</th>\n",
       "      <td>[[0.00543232799916]]</td>\n",
       "      <td>[56996.57722]</td>\n",
       "    </tr>\n",
       "    <tr>\n",
       "      <th>Solar</th>\n",
       "      <td>[[0.00299243989738]]</td>\n",
       "      <td>[31397.00543]</td>\n",
       "    </tr>\n",
       "    <tr>\n",
       "      <th>Hydroelectric</th>\n",
       "      <td>[[0.025942089993]]</td>\n",
       "      <td>[272187.2346]</td>\n",
       "    </tr>\n",
       "    <tr>\n",
       "      <th>Geothermal</th>\n",
       "      <td>[[0.0121482841158]]</td>\n",
       "      <td>[127461.1205]</td>\n",
       "    </tr>\n",
       "    <tr>\n",
       "      <th>Biomass</th>\n",
       "      <td>[[0.0214125228272]]</td>\n",
       "      <td>[224662.5224]</td>\n",
       "    </tr>\n",
       "    <tr>\n",
       "      <th>total</th>\n",
       "      <td>[[1.0]]</td>\n",
       "      <td>[10492108.9501]</td>\n",
       "    </tr>\n",
       "  </tbody>\n",
       "</table>\n",
       "</div>"
      ],
      "text/plain": [
       "                  Percenage of Total Energy Consumed    Usage in BTUs\n",
       "Petroleum and Oil                 [[0.654131219086]]  [6863216.01832]\n",
       "Natural Gas                       [[0.227921461678]]    [2391376.808]\n",
       "Coal and Wood                    [[0.0183530570227]]   [192562.27385]\n",
       "Nuclear                          [[0.0316665973809]]    [332249.3898]\n",
       "Wind                            [[0.00543232799916]]    [56996.57722]\n",
       "Solar                           [[0.00299243989738]]    [31397.00543]\n",
       "Hydroelectric                     [[0.025942089993]]    [272187.2346]\n",
       "Geothermal                       [[0.0121482841158]]    [127461.1205]\n",
       "Biomass                          [[0.0214125228272]]    [224662.5224]\n",
       "total                                        [[1.0]]  [10492108.9501]"
      ]
     },
     "execution_count": 370,
     "metadata": {},
     "output_type": "execute_result"
    }
   ],
   "source": [
    "def make_df(df):\n",
    "    pd.options.display.float_format = '${:,.2f}'.format\n",
    "    data_abs = get_materials_numbers(df)\n",
    "    # The total is stored as the last item in the data_abs list\n",
    "    total = data_abs[-1:]\n",
    "    data_rel = [item / data_abs[-1:] for item in data_abs]\n",
    "    materials = ['Petroleum and Oil', 'Natural Gas', 'Coal and Wood', 'Nuclear', 'Wind', 'Solar', 'Hydroelectric', 'Geothermal', 'Biomass', 'total']\n",
    "    inputs = {'Usage in BTUs': data_abs, 'Percenage of Total Energy Consumed': data_rel}\n",
    "    data = pd.DataFrame(inputs, index=materials)\n",
    "    return data\n",
    "    \n",
    "make_df(dfCA2009)"
   ]
  },
  {
   "cell_type": "code",
   "execution_count": null,
   "metadata": {
    "collapsed": false
   },
   "outputs": [],
   "source": []
  },
  {
   "cell_type": "code",
   "execution_count": null,
   "metadata": {
    "collapsed": false
   },
   "outputs": [],
   "source": []
  },
  {
   "cell_type": "code",
   "execution_count": null,
   "metadata": {
    "collapsed": false
   },
   "outputs": [],
   "source": []
  },
  {
   "cell_type": "code",
   "execution_count": null,
   "metadata": {
    "collapsed": false
   },
   "outputs": [],
   "source": []
  },
  {
   "cell_type": "code",
   "execution_count": null,
   "metadata": {
    "collapsed": false
   },
   "outputs": [],
   "source": []
  },
  {
   "cell_type": "code",
   "execution_count": null,
   "metadata": {
    "collapsed": false
   },
   "outputs": [],
   "source": []
  },
  {
   "cell_type": "code",
   "execution_count": null,
   "metadata": {
    "collapsed": false
   },
   "outputs": [],
   "source": []
  },
  {
   "cell_type": "code",
   "execution_count": 154,
   "metadata": {
    "collapsed": false
   },
   "outputs": [],
   "source": [
    "df9_CA = df9[df9['StateCode']== 'CA']\n",
    "df9_AZ = df9[df9['StateCode']== 'AZ']\n",
    "df9_NM = df9[df9['StateCode']== 'NM']\n",
    "df9_TX = df9[df9['StateCode']== 'TX']"
   ]
  },
  {
   "cell_type": "code",
   "execution_count": 155,
   "metadata": {
    "collapsed": false
   },
   "outputs": [
    {
     "data": {
      "text/html": [
       "<div>\n",
       "<style scoped>\n",
       "    .dataframe tbody tr th:only-of-type {\n",
       "        vertical-align: middle;\n",
       "    }\n",
       "\n",
       "    .dataframe tbody tr th {\n",
       "        vertical-align: top;\n",
       "    }\n",
       "\n",
       "    .dataframe thead th {\n",
       "        text-align: right;\n",
       "    }\n",
       "</style>\n",
       "<table border=\"1\" class=\"dataframe\">\n",
       "  <thead>\n",
       "    <tr style=\"text-align: right;\">\n",
       "      <th></th>\n",
       "      <th>MSN</th>\n",
       "      <th>StateCode</th>\n",
       "      <th>Year</th>\n",
       "      <th>Data</th>\n",
       "    </tr>\n",
       "  </thead>\n",
       "  <tbody>\n",
       "    <tr>\n",
       "      <th>99</th>\n",
       "      <td>ABICB</td>\n",
       "      <td>CA</td>\n",
       "      <td>2009</td>\n",
       "      <td>-87.47043</td>\n",
       "    </tr>\n",
       "  </tbody>\n",
       "</table>\n",
       "</div>"
      ],
      "text/plain": [
       "      MSN StateCode  Year      Data\n",
       "99  ABICB        CA  2009 -87.47043"
      ]
     },
     "execution_count": 155,
     "metadata": {},
     "output_type": "execute_result"
    }
   ],
   "source": [
    "df9_CA.head(1)"
   ]
  },
  {
   "cell_type": "code",
   "execution_count": 174,
   "metadata": {
    "collapsed": false
   },
   "outputs": [],
   "source": [
    "#df9_CA['MSN'].astype(str).str[0:3].head()"
   ]
  },
  {
   "cell_type": "code",
   "execution_count": 175,
   "metadata": {
    "collapsed": true
   },
   "outputs": [],
   "source": [
    "#df9_CA_new = df9_CA[['Data']].sum(axis=1).where(df['MSN'].astype(str).str[0:3], 0)"
   ]
  },
  {
   "cell_type": "code",
   "execution_count": 176,
   "metadata": {
    "collapsed": true
   },
   "outputs": [],
   "source": []
  },
  {
   "cell_type": "code",
   "execution_count": null,
   "metadata": {
    "collapsed": false
   },
   "outputs": [],
   "source": []
  },
  {
   "cell_type": "code",
   "execution_count": 178,
   "metadata": {
    "collapsed": false
   },
   "outputs": [],
   "source": [
    "# Plot relative sources of energy used in a given state for a given year\n",
    "\n",
    "def plot_sources_pie(df):\n",
    "    materials = ['Petroleum', 'Natural Gas', 'Coal and Wood', 'Wind', 'Solar', 'Hydroelectric', 'Geothermal', 'Biomass']\n",
    "    colors = ['green', 'green', 'green', 'red', 'red', 'red', 'red', 'red']\n",
    "    total_size = 10\n",
    "    scaling = 100\n",
    "    \n",
    "    \n",
    "    # TODO switch out the sizes and use the one representing the actual data\n",
    "    \n",
    "\n",
    "    # Get the total energy usage by adding up the energy used \n",
    "    #total_energy += df.loc[i for i in materials]\n",
    "    # Proportion is an 8 item list (same as materials) \n",
    "    #proportion = df.loc[i for i in materials] / total_energy\n",
    "    \n",
    "    #sizes = proportion * scaling\n",
    "    sizes = [215, 130, 245, 210, 215, 130, 245, 210]\n",
    "    explode = (0.1, 0.1, 0.1, 0.1, 0.1, 0.1, 0.1, 0.1)  # explode 1st slice\n",
    "\n",
    "    plt.pie(sizes, explode=explode, labels=labels, colors=colors,\n",
    "            autopct='%1.1f%%', shadow=True, startangle=140)\n",
    "    plt.axis('equal')\n",
    "    plt.show()\n",
    "    \n",
    "#plot_sources_pie(df)"
   ]
  },
  {
   "cell_type": "code",
   "execution_count": 182,
   "metadata": {
    "collapsed": false
   },
   "outputs": [
    {
     "name": "stdout",
     "output_type": "stream",
     "text": [
      "Length of year list is 40\n"
     ]
    },
    {
     "ename": "KeyError",
     "evalue": "'the label [Fossiel Fuel] is not in the [index]'",
     "output_type": "error",
     "traceback": [
      "\u001b[0;31m---------------------------------------------------------------------------\u001b[0m",
      "\u001b[0;31mKeyError\u001b[0m                                  Traceback (most recent call last)",
      "\u001b[0;32m//anaconda/lib/python3.5/site-packages/pandas/core/indexing.py\u001b[0m in \u001b[0;36m_has_valid_type\u001b[0;34m(self, key, axis)\u001b[0m\n\u001b[1;32m   1505\u001b[0m                 \u001b[0;32mif\u001b[0m \u001b[0;32mnot\u001b[0m \u001b[0max\u001b[0m\u001b[0;34m.\u001b[0m\u001b[0mcontains\u001b[0m\u001b[0;34m(\u001b[0m\u001b[0mkey\u001b[0m\u001b[0;34m)\u001b[0m\u001b[0;34m:\u001b[0m\u001b[0;34m\u001b[0m\u001b[0m\n\u001b[0;32m-> 1506\u001b[0;31m                     \u001b[0merror\u001b[0m\u001b[0;34m(\u001b[0m\u001b[0;34m)\u001b[0m\u001b[0;34m\u001b[0m\u001b[0m\n\u001b[0m\u001b[1;32m   1507\u001b[0m             \u001b[0;32mexcept\u001b[0m \u001b[0mTypeError\u001b[0m \u001b[0;32mas\u001b[0m \u001b[0me\u001b[0m\u001b[0;34m:\u001b[0m\u001b[0;34m\u001b[0m\u001b[0m\n",
      "\u001b[0;32m//anaconda/lib/python3.5/site-packages/pandas/core/indexing.py\u001b[0m in \u001b[0;36merror\u001b[0;34m()\u001b[0m\n\u001b[1;32m   1500\u001b[0m                                .format(key=key,\n\u001b[0;32m-> 1501\u001b[0;31m                                        axis=self.obj._get_axis_name(axis)))\n\u001b[0m\u001b[1;32m   1502\u001b[0m \u001b[0;34m\u001b[0m\u001b[0m\n",
      "\u001b[0;31mKeyError\u001b[0m: 'the label [Fossiel Fuel] is not in the [index]'",
      "\nDuring handling of the above exception, another exception occurred:\n",
      "\u001b[0;31mKeyError\u001b[0m                                  Traceback (most recent call last)",
      "\u001b[0;32m<ipython-input-182-bfa7843dcca9>\u001b[0m in \u001b[0;36m<module>\u001b[0;34m()\u001b[0m\n\u001b[1;32m     18\u001b[0m     \u001b[0mplt\u001b[0m\u001b[0;34m.\u001b[0m\u001b[0mshow\u001b[0m\u001b[0;34m(\u001b[0m\u001b[0;34m)\u001b[0m\u001b[0;34m\u001b[0m\u001b[0m\n\u001b[1;32m     19\u001b[0m \u001b[0;34m\u001b[0m\u001b[0m\n\u001b[0;32m---> 20\u001b[0;31m \u001b[0mplot_state_sources_over_time\u001b[0m\u001b[0;34m(\u001b[0m\u001b[0mdf\u001b[0m\u001b[0;34m)\u001b[0m\u001b[0;34m\u001b[0m\u001b[0m\n\u001b[0m",
      "\u001b[0;32m<ipython-input-182-bfa7843dcca9>\u001b[0m in \u001b[0;36mplot_state_sources_over_time\u001b[0;34m(df)\u001b[0m\n\u001b[1;32m      4\u001b[0m     \u001b[0mprint\u001b[0m\u001b[0;34m(\u001b[0m\u001b[0;34m'Length of year list is {}'\u001b[0m\u001b[0;34m.\u001b[0m\u001b[0mformat\u001b[0m\u001b[0;34m(\u001b[0m\u001b[0mlen\u001b[0m\u001b[0;34m(\u001b[0m\u001b[0myear\u001b[0m\u001b[0;34m)\u001b[0m\u001b[0;34m)\u001b[0m\u001b[0;34m)\u001b[0m\u001b[0;34m\u001b[0m\u001b[0m\n\u001b[1;32m      5\u001b[0m \u001b[0;34m\u001b[0m\u001b[0m\n\u001b[0;32m----> 6\u001b[0;31m     \u001b[0mff_total_use\u001b[0m \u001b[0;34m=\u001b[0m \u001b[0mdf\u001b[0m\u001b[0;34m.\u001b[0m\u001b[0mloc\u001b[0m\u001b[0;34m[\u001b[0m\u001b[0;34m'Fossiel Fuel'\u001b[0m\u001b[0;34m]\u001b[0m\u001b[0;34m\u001b[0m\u001b[0m\n\u001b[0m\u001b[1;32m      7\u001b[0m     \u001b[0mrn_total_use\u001b[0m \u001b[0;34m=\u001b[0m \u001b[0mdf\u001b[0m\u001b[0;34m.\u001b[0m\u001b[0mloc\u001b[0m\u001b[0;34m[\u001b[0m\u001b[0;34m'Renewable'\u001b[0m\u001b[0;34m]\u001b[0m\u001b[0;34m\u001b[0m\u001b[0m\n\u001b[1;32m      8\u001b[0m     \u001b[0mtotal_usage\u001b[0m \u001b[0;34m=\u001b[0m \u001b[0mff_total_use\u001b[0m \u001b[0;34m+\u001b[0m \u001b[0mrn_total_use\u001b[0m\u001b[0;34m\u001b[0m\u001b[0m\n",
      "\u001b[0;32m//anaconda/lib/python3.5/site-packages/pandas/core/indexing.py\u001b[0m in \u001b[0;36m__getitem__\u001b[0;34m(self, key)\u001b[0m\n\u001b[1;32m   1371\u001b[0m \u001b[0;34m\u001b[0m\u001b[0m\n\u001b[1;32m   1372\u001b[0m             \u001b[0mmaybe_callable\u001b[0m \u001b[0;34m=\u001b[0m \u001b[0mcom\u001b[0m\u001b[0;34m.\u001b[0m\u001b[0m_apply_if_callable\u001b[0m\u001b[0;34m(\u001b[0m\u001b[0mkey\u001b[0m\u001b[0;34m,\u001b[0m \u001b[0mself\u001b[0m\u001b[0;34m.\u001b[0m\u001b[0mobj\u001b[0m\u001b[0;34m)\u001b[0m\u001b[0;34m\u001b[0m\u001b[0m\n\u001b[0;32m-> 1373\u001b[0;31m             \u001b[0;32mreturn\u001b[0m \u001b[0mself\u001b[0m\u001b[0;34m.\u001b[0m\u001b[0m_getitem_axis\u001b[0m\u001b[0;34m(\u001b[0m\u001b[0mmaybe_callable\u001b[0m\u001b[0;34m,\u001b[0m \u001b[0maxis\u001b[0m\u001b[0;34m=\u001b[0m\u001b[0maxis\u001b[0m\u001b[0;34m)\u001b[0m\u001b[0;34m\u001b[0m\u001b[0m\n\u001b[0m\u001b[1;32m   1374\u001b[0m \u001b[0;34m\u001b[0m\u001b[0m\n\u001b[1;32m   1375\u001b[0m     \u001b[0;32mdef\u001b[0m \u001b[0m_is_scalar_access\u001b[0m\u001b[0;34m(\u001b[0m\u001b[0mself\u001b[0m\u001b[0;34m,\u001b[0m \u001b[0mkey\u001b[0m\u001b[0;34m)\u001b[0m\u001b[0;34m:\u001b[0m\u001b[0;34m\u001b[0m\u001b[0m\n",
      "\u001b[0;32m//anaconda/lib/python3.5/site-packages/pandas/core/indexing.py\u001b[0m in \u001b[0;36m_getitem_axis\u001b[0;34m(self, key, axis)\u001b[0m\n\u001b[1;32m   1624\u001b[0m \u001b[0;34m\u001b[0m\u001b[0m\n\u001b[1;32m   1625\u001b[0m         \u001b[0;31m# fall thru to straight lookup\u001b[0m\u001b[0;34m\u001b[0m\u001b[0;34m\u001b[0m\u001b[0m\n\u001b[0;32m-> 1626\u001b[0;31m         \u001b[0mself\u001b[0m\u001b[0;34m.\u001b[0m\u001b[0m_has_valid_type\u001b[0m\u001b[0;34m(\u001b[0m\u001b[0mkey\u001b[0m\u001b[0;34m,\u001b[0m \u001b[0maxis\u001b[0m\u001b[0;34m)\u001b[0m\u001b[0;34m\u001b[0m\u001b[0m\n\u001b[0m\u001b[1;32m   1627\u001b[0m         \u001b[0;32mreturn\u001b[0m \u001b[0mself\u001b[0m\u001b[0;34m.\u001b[0m\u001b[0m_get_label\u001b[0m\u001b[0;34m(\u001b[0m\u001b[0mkey\u001b[0m\u001b[0;34m,\u001b[0m \u001b[0maxis\u001b[0m\u001b[0;34m=\u001b[0m\u001b[0maxis\u001b[0m\u001b[0;34m)\u001b[0m\u001b[0;34m\u001b[0m\u001b[0m\n\u001b[1;32m   1628\u001b[0m \u001b[0;34m\u001b[0m\u001b[0m\n",
      "\u001b[0;32m//anaconda/lib/python3.5/site-packages/pandas/core/indexing.py\u001b[0m in \u001b[0;36m_has_valid_type\u001b[0;34m(self, key, axis)\u001b[0m\n\u001b[1;32m   1512\u001b[0m                 \u001b[0;32mraise\u001b[0m\u001b[0;34m\u001b[0m\u001b[0m\n\u001b[1;32m   1513\u001b[0m             \u001b[0;32mexcept\u001b[0m\u001b[0;34m:\u001b[0m\u001b[0;34m\u001b[0m\u001b[0m\n\u001b[0;32m-> 1514\u001b[0;31m                 \u001b[0merror\u001b[0m\u001b[0;34m(\u001b[0m\u001b[0;34m)\u001b[0m\u001b[0;34m\u001b[0m\u001b[0m\n\u001b[0m\u001b[1;32m   1515\u001b[0m \u001b[0;34m\u001b[0m\u001b[0m\n\u001b[1;32m   1516\u001b[0m         \u001b[0;32mreturn\u001b[0m \u001b[0;32mTrue\u001b[0m\u001b[0;34m\u001b[0m\u001b[0m\n",
      "\u001b[0;32m//anaconda/lib/python3.5/site-packages/pandas/core/indexing.py\u001b[0m in \u001b[0;36merror\u001b[0;34m()\u001b[0m\n\u001b[1;32m   1499\u001b[0m                 raise KeyError(u\"the label [{key}] is not in the [{axis}]\"\n\u001b[1;32m   1500\u001b[0m                                .format(key=key,\n\u001b[0;32m-> 1501\u001b[0;31m                                        axis=self.obj._get_axis_name(axis)))\n\u001b[0m\u001b[1;32m   1502\u001b[0m \u001b[0;34m\u001b[0m\u001b[0m\n\u001b[1;32m   1503\u001b[0m             \u001b[0;32mtry\u001b[0m\u001b[0;34m:\u001b[0m\u001b[0;34m\u001b[0m\u001b[0m\n",
      "\u001b[0;31mKeyError\u001b[0m: 'the label [Fossiel Fuel] is not in the [index]'"
     ]
    }
   ],
   "source": [
    "def plot_state_sources_over_time(df):\n",
    "    ''' Make a line chart showing a states relative use of renewable and non renewable energy'''\n",
    "    year = range(1969, 2009) \n",
    "    print('Length of year list is {}'.format(len(year)))\n",
    "    \n",
    "    ff_total_use = df.loc['Fossiel Fuel']\n",
    "    rn_total_use = df.loc['Renewable']\n",
    "    total_usage = ff_total_use + rn_total_use\n",
    "    \n",
    "    ff_rel_use = [i / total_usage for i in df.loc['Fossil Fuel']]\n",
    "    rn_rel_use = [i / total_usage for i in df.loc['Renewable']]\n",
    "    \n",
    "    plt.plot(year, ff_rel_use, color='red')\n",
    "    plt.plot(year, rn_rel_use, color='green')\n",
    "    plt.xlabel('Time')\n",
    "    plt.ylabel('Percentage of Total Energy')\n",
    "    plt.title('{State} use of energy over time')\n",
    "    plt.show()\n",
    "\n",
    "plot_state_sources_over_time(df)"
   ]
  },
  {
   "cell_type": "code",
   "execution_count": null,
   "metadata": {
    "collapsed": false
   },
   "outputs": [],
   "source": [
    "# make a dataframe for each state that holds the energy categories\n",
    "labels = ['Petroleum', 'Natural Gas', 'Coal and Wood', 'Wind', 'Solar', 'Hydroelectric', 'Geothermal', 'Biomass']\n",
    "data = [1, 4, 6, 3, 67, 7, 7, 7]\n",
    "df_mat_time = pd.DataFrame(data, labels)\n",
    "\n",
    "# How can we get all slices of data for a state, for a given year, grab each of the things that matchthe codes and put them ino a vector"
   ]
  },
  {
   "cell_type": "code",
   "execution_count": null,
   "metadata": {
    "collapsed": true
   },
   "outputs": [],
   "source": [
    "dfDF = data[data.loc[:, 'MSN']== 'DFTCB']\n",
    "#print(dfDF)\n",
    "natural_gas = dfPA.loc[:, 'Data'].values"
   ]
  },
  {
   "cell_type": "code",
   "execution_count": null,
   "metadata": {
    "collapsed": false
   },
   "outputs": [],
   "source": [
    "petro_inputs = data[data.loc[:, 'MSN']== 'PATCB'], data[data.loc[:, 'MSN']== 'NGTCB'], data[data.loc[:, 'MSN']== 'NGTCB'] + data[data.loc[:, 'MSN']== 'NGTCB']\n",
    "#petro = petro_inputs['Data']\n",
    "#print(petro['Data'])\n",
    "\n",
    "\n",
    "'''\n",
    "natural_gas = data[data.loc[:, 'MSN']== 'NGTCB']] \n",
    "coal_wood = data.loc[:, 'MSN']== 'CLTCB'] + data.loc[:, 'MSN']== 'WWTCB']\n",
    "nuclear = data.loc[:, 'MSN']== 'NUECB']\n",
    "wind = data.loc[:, 'MSN']== 'WYTCB']\n",
    "solar = data.loc[:, 'MSN']== 'SOTCB']\n",
    "hydroelectric = data.loc[:, 'MSN']== 'HYTCB']\n",
    "geothermal = data.loc[:, 'MSN']== 'GETCB']\n",
    "biomass = data.loc[:, 'MSN']== 'BMTCB']\n",
    "'''"
   ]
  },
  {
   "cell_type": "code",
   "execution_count": null,
   "metadata": {
    "collapsed": false
   },
   "outputs": [],
   "source": [
    "# Make df a dataframe that represents the summary data from excel in a way we can query nicely\n",
    "#df_CA = data[data['StateCode']== 'CA']\n",
    "#data[data['StateCode']== 'AZ']\n",
    "#df9[df9['StateCode']== 'CA']"
   ]
  },
  {
   "cell_type": "code",
   "execution_count": 322,
   "metadata": {
    "collapsed": true
   },
   "outputs": [],
   "source": [
    "#df9['MSN'].astype(str).str[0:3].head()"
   ]
  },
  {
   "cell_type": "code",
   "execution_count": 335,
   "metadata": {
    "collapsed": true
   },
   "outputs": [],
   "source": [
    "#groupedCA = df9_CA.groupby(df9_CA['MSN'].astype(str).str[0:3]).sum().drop(columns ='Year')\n",
    "#groupedAZ = df9_CA.groupby(df9_AZ['MSN'].astype(str).str[0:3]).sum().drop(columns ='Year')\n",
    "#groupedNM = df9_CA.groupby(df9_NM['MSN'].astype(str).str[0:3]).sum().drop(columns ='Year')\n",
    "#groupedTX = df9_CA.groupby(df9_TX['MSN'].astype(str).str[0:3]).sum().drop(columns ='Year')"
   ]
  },
  {
   "cell_type": "code",
   "execution_count": 337,
   "metadata": {
    "collapsed": false
   },
   "outputs": [
    {
     "data": {
      "text/plain": [
       "\"\\ndata_condensed = [data['PATCB'] + data['EMTCB'] + data['MGTCB'] + data['JFTCB'] + data['DFTCB'] + data['RFTCB'], \\n                  data['NGTCB'],\\n                  data['CLTCB']  + data['WWTCB'],\\n                  data['NUEGB'],\\n                  data['WYTCB'],\\n                  data['SOTCB'],\\n                  data['HYTCB'],\\n                  data['GETCB'],\\n                  data['BMTCB']]\\n\""
      ]
     },
     "execution_count": 337,
     "metadata": {},
     "output_type": "execute_result"
    }
   ],
   "source": [
    "'''\n",
    "data_condensed = [data['PATCB'] + data['EMTCB'] + data['MGTCB'] + data['JFTCB'] + data['DFTCB'] + data['RFTCB'], \n",
    "                  data['NGTCB'],\n",
    "                  data['CLTCB']  + data['WWTCB'],\n",
    "                  data['NUEGB'],\n",
    "                  data['WYTCB'],\n",
    "                  data['SOTCB'],\n",
    "                  data['HYTCB'],\n",
    "                  data['GETCB'],\n",
    "                  data['BMTCB']]\n",
    "'''"
   ]
  },
  {
   "cell_type": "code",
   "execution_count": null,
   "metadata": {
    "collapsed": true
   },
   "outputs": [],
   "source": []
  }
 ],
 "metadata": {
  "anaconda-cloud": {},
  "kernelspec": {
   "display_name": "Python [default]",
   "language": "python",
   "name": "python3"
  },
  "language_info": {
   "codemirror_mode": {
    "name": "ipython",
    "version": 3
   },
   "file_extension": ".py",
   "mimetype": "text/x-python",
   "name": "python",
   "nbconvert_exporter": "python",
   "pygments_lexer": "ipython3",
   "version": "3.5.2"
  }
 },
 "nbformat": 4,
 "nbformat_minor": 1
}
