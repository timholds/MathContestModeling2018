{
 "cells": [
  {
   "cell_type": "code",
   "execution_count": 79,
   "metadata": {
    "collapsed": false
   },
   "outputs": [],
   "source": [
    "import pandas as pd\n",
    "from pandas.plotting import table\n",
    "import numpy as np\n",
    "import matplotlib.pyplot as plt"
   ]
  },
  {
   "cell_type": "code",
   "execution_count": 83,
   "metadata": {
    "collapsed": false
   },
   "outputs": [],
   "source": [
    "def data_in():\n",
    "    \n",
    "    ''' Takes in data from the CSV, gets the relevant data, and returns a dataframe '''\n",
    "    \n",
    "    df = pd.read_csv('ProblemCData.csv')\n",
    "    material_codes = ['FFTCB', 'PATCB', 'EMTCB', 'MGTCB', 'JFTCB', 'NGTCB','CLTCB','WWTCB', 'DFTCB', 'RFTCB','NUEGB','RETCB','HYTCB','GETCB','SOTCB','WYTCB', 'BMTCB'] # list of material codes from excel[]\n",
    "\n",
    "    data = df.loc[df['MSN'].isin(material_codes)]\n",
    "    return data\n"
   ]
  },
  {
   "cell_type": "code",
   "execution_count": 59,
   "metadata": {
    "collapsed": false
   },
   "outputs": [],
   "source": [
    "def get_materials_numbers(data):\n",
    "    \n",
    "    ''' Aggregate the data from different specific energy sources into general sources'''\n",
    "    \n",
    "    dfPA = data[data.loc[:, 'MSN']== 'PATCB']\n",
    "    dfEM = data[data.loc[:, 'MSN']== 'EMTCB']\n",
    "    dfJF = data[data.loc[:, 'MSN']== 'JFTCB']\n",
    "    dfMG = data[data.loc[:, 'MSN']== 'MGTCB']\n",
    "    dfRF = data[data.loc[:, 'MSN']== 'RFTCB']\n",
    "    dfDF = data[data.loc[:, 'MSN']== 'DFTCB']\n",
    "    petro = dfPA.loc[:, 'Data'].values + dfEM.loc[:, 'Data'].values + dfJF.loc[:, 'Data'].values + dfMG.loc[:, 'Data'].values + dfRF.loc[:, 'Data'].values + dfDF.loc[:, 'Data'].values\n",
    "\n",
    "    dfNG = data[data.loc[:, 'MSN']== 'NGTCB']\n",
    "    natural_gas = dfNG.loc[:, 'Data'].values\n",
    "    \n",
    "    dfCoal = data[data.loc[:, 'MSN']== 'CLTCB']\n",
    "    dfWood = data[data.loc[:, 'MSN']== 'WWTCB'] \n",
    "    coal_wood = dfCoal.loc[:, 'Data'].values + dfWood.loc[:, 'Data'].values \n",
    "    \n",
    "    dfNuc = data[data.loc[:, 'MSN']== 'NUEGB'] \n",
    "    nuclear = dfNuc.loc[:, 'Data'].values\n",
    "    \n",
    "    dfWind = data[data.loc[:, 'MSN']== 'WYTCB'] \n",
    "    wind = dfWind.loc[:, 'Data'].values\n",
    "    \n",
    "    dfSol = data[data.loc[:, 'MSN']== 'SOTCB'] \n",
    "    solar = dfSol.loc[:, 'Data'].values\n",
    "    \n",
    "    dfHydro = data[data.loc[:, 'MSN']== 'HYTCB'] \n",
    "    hydro = dfHydro.loc[:, 'Data'].values\n",
    "    \n",
    "    dfGeo = data[data.loc[:, 'MSN']== 'GETCB'] \n",
    "    geo = dfGeo.loc[:, 'Data'].values\n",
    "    \n",
    "    dfBio = data[data.loc[:, 'MSN']== 'BMTCB'] \n",
    "    bio = dfBio.loc[:, 'Data'].values\n",
    "    \n",
    "    total = petro + natural_gas + coal_wood + nuclear + wind + solar + hydro + geo + bio\n",
    "    \n",
    "    data_values = [petro, natural_gas, coal_wood, nuclear, wind, solar, hydro, geo, bio, total]\n",
    "    return data_values\n",
    "    \n",
    "#get_materials_numbers(data)"
   ]
  },
  {
   "cell_type": "code",
   "execution_count": 60,
   "metadata": {
    "collapsed": false
   },
   "outputs": [],
   "source": [
    "def state_df(df, state):\n",
    "    \n",
    "    ''' Get data for a single state and return the dataframe '''\n",
    "    \n",
    "    state_df = df[df['StateCode']== state]\n",
    "    return state_df\n",
    "\n",
    "def year_df(df, year):\n",
    "    \n",
    "    ''' Get data for a single year and return the dataframe '''\n",
    "    \n",
    "    year_df = df[df['Year']== year]\n",
    "    return year_df\n"
   ]
  },
  {
   "cell_type": "code",
   "execution_count": 91,
   "metadata": {
    "collapsed": false,
    "scrolled": true
   },
   "outputs": [],
   "source": [
    "def make_profile_df_unrefined(df):\n",
    "    \n",
    "    ''' Take in a dataframe for a state and year and make an energy profile. \n",
    "        Returns df, which each cell is populated by a list'''\n",
    "    \n",
    "    data_abs = get_materials_numbers(df)\n",
    "    total = sum(data_abs)\n",
    "    \n",
    "    data_rel = []\n",
    "    for i in range(len(data_abs)):\n",
    "        data_rel.append((data_abs[i] / total) *2)\n",
    "    materials = ['Petroleum and Oil', 'Natural Gas', 'Coal and Wood', 'Nuclear', 'Wind', 'Solar', 'Hydroelectric', 'Geothermal', 'Biomass', 'total']\n",
    "    inputs = {'Usage in BTUs': data_abs, 'Percenage of Total Energy Consumed': data_rel}\n",
    "    data = pd.DataFrame(inputs, index=materials)\n",
    "    return data\n",
    "\n",
    "#fd = make_profile_df_unrefined(dfCA2009)\n",
    "#fd"
   ]
  },
  {
   "cell_type": "code",
   "execution_count": 85,
   "metadata": {
    "collapsed": false
   },
   "outputs": [],
   "source": [
    "def turn_profile_df_lists_to_numbers(df):\n",
    "    \n",
    "    ''' Takes in a df in which each cell is populated by a list.\n",
    "        Returns a df in which each cell is a float'''\n",
    "    \n",
    "    s = df.loc[:, 'Percenage of Total Energy Consumed']\n",
    "    percentage_list = []\n",
    "    for x in s:\n",
    "        percentage_list.extend(x*100)\n",
    "\n",
    "    t = fd.loc[:, 'Usage in BTUs']\n",
    "    usage_list = []\n",
    "    for y in t:\n",
    "        usage_list.extend(y)\n",
    "    return usage_list, percentage_list\n",
    "\n",
    "#usage_list, percentage_list = turn_profile_df_lists_to_numbers(fd)"
   ]
  },
  {
   "cell_type": "code",
   "execution_count": 70,
   "metadata": {
    "collapsed": false
   },
   "outputs": [],
   "source": [
    "def make_profile_df(usage_list, percentage_list):\n",
    "    \n",
    "    ''' Returns a profile for a states energy use in a year as a dataframe'''\n",
    "    \n",
    "    pd.options.display.float_format = '{:,.2f}'.format\n",
    "     \n",
    "    materials = ['Petroleum and Oil', 'Natural Gas', 'Coal and Wood', 'Nuclear', 'Wind', 'Solar', 'Hydroelectric', 'Geothermal', 'Biomass', 'Total']\n",
    "    inputs = {'Usage in BTUs': usage_list, 'Percentage of Total Energy Consumed': percentage_list}\n",
    "    data = pd.DataFrame(inputs, index=materials).sort_values(by=['Percentage of Total Energy Consumed'], ascending=False)\n",
    "    data.columns.name = 'California Energy Profile for 2009'\n",
    "\n",
    "    return data\n",
    "\n",
    "#dfCA2009_profile = make_profile_df(usage_list, percentage_list)\n",
    "#dfCA2009_profile.name = 'California 2009 Profile'\n",
    "#dfCA2009_profile.plot.line()\n",
    "\n"
   ]
  },
  {
   "cell_type": "code",
   "execution_count": 86,
   "metadata": {
    "collapsed": false
   },
   "outputs": [],
   "source": [
    "# Plot relative sources of energy used in a given state for a given year\n",
    "def plot_sources_pie(dfStateYear):\n",
    "    \n",
    "    ''' Create a pie chart for energy sources for a given state in a given year '''\n",
    "    \n",
    "    profile_df = make_profile_df(dfStateYear)\n",
    "    percentages = profile_df.loc[:, 'Percentage of Total Energy Consumed']\n",
    "    #print(percentages)\n",
    "    \n",
    "    materials = ['Petroleum and Oil', 'Natural Gas', 'Coal and Wood', 'Nuclear', 'Wind', 'Solar', 'Other']\n",
    "    print('Where Other is Hydroelectric, Geothermal, & Biomass')\n",
    "    colors = ['red', 'red', 'red', 'red', 'green', 'green', 'green']\n",
    "    scaling = 5\n",
    "    \n",
    "    sizes = [item*scaling for item in percentages[:-1]]\n",
    "    print(len(sizes))\n",
    "    # TODO switch out the sizes and use the one representing the actual data\n",
    "    \n",
    "    #sizes = proportion * scaling\n",
    "    #sizes = [215, 130, 245, 210, 215, 130, 245, 210]\n",
    "    explode = (0.1, 0.1, 0.1, 0.1, 0.1, 0.1, 0.1)  # explode 1st slice\n",
    "\n",
    "    plt.pie(sizes, explode=explode, labels=materials, colors=colors,\n",
    "            autopct='%5.1f%%', shadow=True, startangle=140)\n",
    "    plt.axis('equal')\n",
    "    plt.show()"
   ]
  },
  {
   "cell_type": "code",
   "execution_count": 77,
   "metadata": {
    "collapsed": false
   },
   "outputs": [],
   "source": [
    "def plot_df(df):\n",
    "    \n",
    "    ''' Not sure if I still need this method '''\n",
    "    \n",
    "    ax = plt.subplot(111) #, frame_on=False) # no visible frame\n",
    "    ax.xaxis.set_visible(False)  # hide the x axis\n",
    "    ax.yaxis.set_visible(False)  # hide the y axis\n",
    "\n",
    "    table(ax, df)  # where df is your data frame\n",
    "\n",
    "    plt.show(table)\n",
    "    \n"
   ]
  },
  {
   "cell_type": "code",
   "execution_count": null,
   "metadata": {
    "collapsed": true
   },
   "outputs": [],
   "source": [
    "def get_state_profiles_2009(state):\n",
    "    \n",
    "    ''' For a given state, show their energy profile in 2009'''\n",
    "    \n",
    "    df = data_in()\n",
    "    make_profile_df_unrefined(df)\n",
    "    make\n",
    "    state_df(state)\n",
    "    year_df(2009)\n",
    "    get_materials_numbers(df)\n",
    "    plot_df()\n",
    "    plot_sources_pi()\n",
    "\n",
    "    "
   ]
  },
  {
   "cell_type": "code",
   "execution_count": null,
   "metadata": {
    "collapsed": false
   },
   "outputs": [],
   "source": [
    "# Get the values for 2009 for all the codes for all the states\n",
    "df2009 = year_df(df, 2009)\n",
    "df2009.name = '2009 Data'\n",
    "\n",
    "dfCA = state_df(df, 'CA')\n",
    "dfCA2009 = year_df(dfCA, 2009)\n",
    "dfCA2009.name = 'California 2009 Data'\n",
    "\n",
    "dfAZ = state_df(df, 'AZ')\n",
    "dfAZ2009 = year_df(dfAZ, 2009)\n",
    "dfAZ2009.name = 'Arizona 2009 Data'\n",
    "\n",
    "dfNM = state_df(df, 'NM')\n",
    "dfNM2009 = year_df(dfNM, 2009)\n",
    "dfNM2009.name = 'New Mexico 2009 Data'\n",
    "\n",
    "dfTX = state_df(df, 'TX')\n",
    "dfTX2009 = year_df(dfTX, 2009)\n",
    "dfTX2009.name = 'Texas 2009 Data'\n"
   ]
  },
  {
   "cell_type": "code",
   "execution_count": null,
   "metadata": {
    "collapsed": false
   },
   "outputs": [],
   "source": []
  },
  {
   "cell_type": "code",
   "execution_count": 75,
   "metadata": {
    "collapsed": false
   },
   "outputs": [],
   "source": [
    "#plot_sources_pie(dfCA2009)"
   ]
  },
  {
   "cell_type": "code",
   "execution_count": 87,
   "metadata": {
    "collapsed": false
   },
   "outputs": [],
   "source": [
    "def plot_state_sources_over_time(df):\n",
    "    \n",
    "    ''' Make a line chart showing a states relative use of renewable and non renewable energy'''\n",
    "    \n",
    "    year = range(1969, 2009) \n",
    "    print('Length of year list is {}'.format(len(year)))\n",
    "    \n",
    "    ff_total_use = df.loc['Fossiel Fuel']\n",
    "    rn_total_use = df.loc['Renewable']\n",
    "    total_usage = ff_total_use + rn_total_use\n",
    "    \n",
    "    ff_rel_use = [i / total_usage for i in df.loc['Fossil Fuel']]\n",
    "    rn_rel_use = [i / total_usage for i in df.loc['Renewable']]\n",
    "    \n",
    "    plt.plot(year, ff_rel_use, color='red')\n",
    "    plt.plot(year, rn_rel_use, color='green')\n",
    "    plt.xlabel('Time')\n",
    "    plt.ylabel('Percentage of Total Energy')\n",
    "    plt.title('{State} use of energy over time')\n",
    "    plt.show()\n",
    "\n",
    "#plot_state_sources_over_time(df)"
   ]
  },
  {
   "cell_type": "code",
   "execution_count": null,
   "metadata": {
    "collapsed": false
   },
   "outputs": [],
   "source": []
  },
  {
   "cell_type": "code",
   "execution_count": null,
   "metadata": {
    "collapsed": false
   },
   "outputs": [],
   "source": []
  },
  {
   "cell_type": "code",
   "execution_count": null,
   "metadata": {
    "collapsed": false
   },
   "outputs": [],
   "source": []
  },
  {
   "cell_type": "code",
   "execution_count": null,
   "metadata": {
    "collapsed": false
   },
   "outputs": [],
   "source": []
  },
  {
   "cell_type": "code",
   "execution_count": null,
   "metadata": {
    "collapsed": false
   },
   "outputs": [],
   "source": []
  },
  {
   "cell_type": "code",
   "execution_count": 154,
   "metadata": {
    "collapsed": false
   },
   "outputs": [],
   "source": []
  },
  {
   "cell_type": "code",
   "execution_count": null,
   "metadata": {
    "collapsed": false
   },
   "outputs": [],
   "source": []
  },
  {
   "cell_type": "code",
   "execution_count": 174,
   "metadata": {
    "collapsed": false
   },
   "outputs": [],
   "source": []
  },
  {
   "cell_type": "code",
   "execution_count": null,
   "metadata": {
    "collapsed": true
   },
   "outputs": [],
   "source": []
  },
  {
   "cell_type": "code",
   "execution_count": 176,
   "metadata": {
    "collapsed": true
   },
   "outputs": [],
   "source": []
  },
  {
   "cell_type": "code",
   "execution_count": null,
   "metadata": {
    "collapsed": false
   },
   "outputs": [],
   "source": []
  },
  {
   "cell_type": "code",
   "execution_count": 178,
   "metadata": {
    "collapsed": false
   },
   "outputs": [],
   "source": []
  },
  {
   "cell_type": "code",
   "execution_count": null,
   "metadata": {
    "collapsed": false
   },
   "outputs": [],
   "source": [
    "s = fd.loc[:, 'Percenage of Total Energy Consumed']\n",
    "percentage_list = []\n",
    "for x in s:\n",
    "    percentage_list.extend(x*100)\n",
    "    \n",
    "t = fd.loc[:, 'Usage in BTUs']\n",
    "usage_list = []\n",
    "for y in t:\n",
    "    usage_list.extend(y"
   ]
  },
  {
   "cell_type": "code",
   "execution_count": 422,
   "metadata": {
    "collapsed": false
   },
   "outputs": [],
   "source": [
    "# make a dataframe for each state that holds the energy categories\n",
    "labels = ['Petroleum', 'Natural Gas', 'Coal and Wood', 'Wind', 'Solar', 'Hydroelectric', 'Geothermal', 'Biomass']\n",
    "data = [1, 4, 6, 3, 67, 7, 7, 7]\n",
    "df_mat_time = pd.DataFrame(data, labels)\n",
    "\n",
    "# How can we get all slices of data for a state, for a given year, grab each of the things that matchthe codes and put them ino a vector"
   ]
  },
  {
   "cell_type": "code",
   "execution_count": null,
   "metadata": {
    "collapsed": true
   },
   "outputs": [],
   "source": [
    "dfDF = data[data.loc[:, 'MSN']== 'DFTCB']\n",
    "#print(dfDF)\n",
    "natural_gas = dfPA.loc[:, 'Data'].values"
   ]
  },
  {
   "cell_type": "code",
   "execution_count": null,
   "metadata": {
    "collapsed": false
   },
   "outputs": [],
   "source": [
    "petro_inputs = data[data.loc[:, 'MSN']== 'PATCB'], data[data.loc[:, 'MSN']== 'NGTCB'], data[data.loc[:, 'MSN']== 'NGTCB'] + data[data.loc[:, 'MSN']== 'NGTCB']\n",
    "#petro = petro_inputs['Data']\n",
    "#print(petro['Data'])\n",
    "\n",
    "\n",
    "'''\n",
    "natural_gas = data[data.loc[:, 'MSN']== 'NGTCB']] \n",
    "coal_wood = data.loc[:, 'MSN']== 'CLTCB'] + data.loc[:, 'MSN']== 'WWTCB']\n",
    "nuclear = data.loc[:, 'MSN']== 'NUECB']\n",
    "wind = data.loc[:, 'MSN']== 'WYTCB']\n",
    "solar = data.loc[:, 'MSN']== 'SOTCB']\n",
    "hydroelectric = data.loc[:, 'MSN']== 'HYTCB']\n",
    "geothermal = data.loc[:, 'MSN']== 'GETCB']\n",
    "biomass = data.loc[:, 'MSN']== 'BMTCB']\n",
    "'''"
   ]
  },
  {
   "cell_type": "code",
   "execution_count": null,
   "metadata": {
    "collapsed": false
   },
   "outputs": [],
   "source": [
    "# Make df a dataframe that represents the summary data from excel in a way we can query nicely\n",
    "#df_CA = data[data['StateCode']== 'CA']\n",
    "#data[data['StateCode']== 'AZ']\n",
    "#df9[df9['StateCode']== 'CA']"
   ]
  },
  {
   "cell_type": "code",
   "execution_count": 322,
   "metadata": {
    "collapsed": true
   },
   "outputs": [],
   "source": [
    "#df9['MSN'].astype(str).str[0:3].head()"
   ]
  },
  {
   "cell_type": "code",
   "execution_count": 335,
   "metadata": {
    "collapsed": true
   },
   "outputs": [],
   "source": [
    "#groupedCA = df9_CA.groupby(df9_CA['MSN'].astype(str).str[0:3]).sum().drop(columns ='Year')\n",
    "#groupedAZ = df9_CA.groupby(df9_AZ['MSN'].astype(str).str[0:3]).sum().drop(columns ='Year')\n",
    "#groupedNM = df9_CA.groupby(df9_NM['MSN'].astype(str).str[0:3]).sum().drop(columns ='Year')\n",
    "#groupedTX = df9_CA.groupby(df9_TX['MSN'].astype(str).str[0:3]).sum().drop(columns ='Year')"
   ]
  },
  {
   "cell_type": "code",
   "execution_count": 337,
   "metadata": {
    "collapsed": false
   },
   "outputs": [
    {
     "data": {
      "text/plain": [
       "\"\\ndata_condensed = [data['PATCB'] + data['EMTCB'] + data['MGTCB'] + data['JFTCB'] + data['DFTCB'] + data['RFTCB'], \\n                  data['NGTCB'],\\n                  data['CLTCB']  + data['WWTCB'],\\n                  data['NUEGB'],\\n                  data['WYTCB'],\\n                  data['SOTCB'],\\n                  data['HYTCB'],\\n                  data['GETCB'],\\n                  data['BMTCB']]\\n\""
      ]
     },
     "execution_count": 337,
     "metadata": {},
     "output_type": "execute_result"
    }
   ],
   "source": [
    "'''\n",
    "data_condensed = [data['PATCB'] + data['EMTCB'] + data['MGTCB'] + data['JFTCB'] + data['DFTCB'] + data['RFTCB'], \n",
    "                  data['NGTCB'],\n",
    "                  data['CLTCB']  + data['WWTCB'],\n",
    "                  data['NUEGB'],\n",
    "                  data['WYTCB'],\n",
    "                  data['SOTCB'],\n",
    "                  data['HYTCB'],\n",
    "                  data['GETCB'],\n",
    "                  data['BMTCB']]\n",
    "'''"
   ]
  },
  {
   "cell_type": "code",
   "execution_count": 408,
   "metadata": {
    "collapsed": true
   },
   "outputs": [],
   "source": [
    "#df9_CA['MSN'].astype(str).str[0:3].head()\n",
    "#df9_CA = df9[df9['StateCode']== 'CA']\n",
    "#df9_AZ = df9[df9['StateCode']== 'AZ']\n",
    "#df9_NM = df9[df9['StateCode']== 'NM']\n",
    "#df9_TX = df9[df9['StateCode']== 'TX']\n",
    "#df9_CA.head(1)\n",
    "#df9_CA_new = df9_CA[['Data']].sum(axis=1).where(df['MSN'].astype(str).str[0:3], 0)"
   ]
  },
  {
   "cell_type": "code",
   "execution_count": 89,
   "metadata": {
    "collapsed": false
   },
   "outputs": [
    {
     "name": "stderr",
     "output_type": "stream",
     "text": [
      "//anaconda/lib/python3.5/site-packages/IPython/html.py:14: ShimWarning:\n",
      "\n",
      "The `IPython.html` package has been deprecated. You should import from `notebook` instead. `IPython.html.widgets` has moved to `ipywidgets`.\n",
      "\n",
      "//anaconda/lib/python3.5/site-packages/IPython/utils/traitlets.py:5: UserWarning:\n",
      "\n",
      "IPython.utils.traitlets has moved to a top-level traitlets package.\n",
      "\n"
     ]
    },
    {
     "data": {
      "application/javascript": [
       "window.genUID = function() {\n",
       "    return 'xxxxxxxx-xxxx-4xxx-yxxx-xxxxxxxxxxxx'.replace(/[xy]/g, function(c) {\n",
       "        var r = Math.random()*16|0, v = c == 'x' ? r : (r&0x3|0x8);\n",
       "        return v.toString(16);\n",
       "    });\n",
       "};\n",
       "\n",
       "var IPYTHON_VERSION = '3';\n",
       "\n",
       "require([\"widgets/js/widget\", \"widgets/js/manager\"], function (widget, manager) {\n",
       "    if (!('DOMWidgetView' in widget)) {\n",
       "\n",
       "        // we're in IPython2, things moved a bit from 2 --> 3.\n",
       "        // construct the expected IPython3 widget API\n",
       "        IPYTHON_VERSION = '2';\n",
       "        manager = {WidgetManager: widget};\n",
       "        widget = {DOMWidgetView: IPython.DOMWidgetView};\n",
       "    }\n",
       "\n",
       "    var GraphView = widget.DOMWidgetView.extend({\n",
       "        render: function(){\n",
       "            var that = this;\n",
       "\n",
       "            var graphId = window.genUID();\n",
       "            var loadingId = 'loading-'+graphId;\n",
       "\n",
       "\n",
       "            var _graph_url = that.model.get('_graph_url');\n",
       "\n",
       "            // variable plotlyDomain in the case of enterprise\n",
       "            var url_parts = _graph_url.split('/');\n",
       "            var plotlyDomain = url_parts[0] + '//' + url_parts[2];\n",
       "\n",
       "            if(!('plotlyDomains' in window)){\n",
       "                window.plotlyDomains = {};\n",
       "            }\n",
       "            window.plotlyDomains[graphId] = plotlyDomain;\n",
       "\n",
       "            // Place IFrame in output cell div `$el`\n",
       "            that.$el.css('width', '100%');\n",
       "            that.$graph = $(['<iframe id=\"'+graphId+'\"',\n",
       "                             'src=\"'+_graph_url+'.embed\"',\n",
       "                             'seamless',\n",
       "                             'style=\"border: none;\"',\n",
       "                             'width=\"100%\"',\n",
       "                             'height=\"600\">',\n",
       "                             '</iframe>'].join(' '));\n",
       "            that.$graph.appendTo(that.$el);\n",
       "\n",
       "            that.$loading = $('<div id=\"'+loadingId+'\">Initializing...</div>')\n",
       "                            .appendTo(that.$el);\n",
       "\n",
       "            // for some reason the 'width' is being changed in IPython 3.0.0\n",
       "            // for the containing `div` element. There's a flicker here, but\n",
       "            // I was unable to fix it otherwise.\n",
       "            setTimeout(function ()  {\n",
       "                if (IPYTHON_VERSION === '3') {\n",
       "                    $('#' + graphId)[0].parentElement.style.width = '100%';\n",
       "                }\n",
       "            }, 500);\n",
       "\n",
       "            // initialize communication with the iframe\n",
       "            if(!('pingers' in window)){\n",
       "                window.pingers = {};\n",
       "            }\n",
       "\n",
       "            window.pingers[graphId] = setInterval(function() {\n",
       "                that.graphContentWindow = $('#'+graphId)[0].contentWindow;\n",
       "                that.graphContentWindow.postMessage({task: 'ping'}, plotlyDomain);\n",
       "            }, 200);\n",
       "\n",
       "            // Assign a message listener to the 'message' events\n",
       "            // from iframe's postMessage protocol.\n",
       "            // Filter the messages by iframe src so that the right message\n",
       "            // gets passed to the right widget\n",
       "            if(!('messageListeners' in window)){\n",
       "                 window.messageListeners = {};\n",
       "            }\n",
       "\n",
       "            window.messageListeners[graphId] = function(e) {\n",
       "                if(_graph_url.indexOf(e.origin)>-1) {\n",
       "                    var frame = document.getElementById(graphId);\n",
       "\n",
       "                    if(frame === null){\n",
       "                        // frame doesn't exist in the dom anymore, clean up it's old event listener\n",
       "                        window.removeEventListener('message', window.messageListeners[graphId]);\n",
       "                        clearInterval(window.pingers[graphId]);\n",
       "                    } else if(frame.contentWindow === e.source) {\n",
       "                        // TODO: Stop event propagation, so each frame doesn't listen and filter\n",
       "                        var frameContentWindow = $('#'+graphId)[0].contentWindow;\n",
       "                        var message = e.data;\n",
       "\n",
       "                        if('pong' in message && message.pong) {\n",
       "                            $('#loading-'+graphId).hide();\n",
       "                            clearInterval(window.pingers[graphId]);\n",
       "                            that.send({event: 'pong', graphId: graphId});\n",
       "                        } else if (message.type==='hover' ||\n",
       "                                   message.type==='zoom'  ||\n",
       "                                   message.type==='click' ||\n",
       "                                   message.type==='unhover') {\n",
       "\n",
       "                            // click and hover events contain all of the data in the traces,\n",
       "                            // which can be a very large object and may take a ton of time\n",
       "                            // to pass to the python backend. Strip out the data, and require\n",
       "                            // the user to call get_figure if they need trace information\n",
       "                            if(message.type !== 'zoom') {\n",
       "                                for(var i in message.points) {\n",
       "                                    delete message.points[i].data;\n",
       "                                    delete message.points[i].fullData;\n",
       "                                }\n",
       "                            }\n",
       "                            that.send({event: message.type, message: message, graphId: graphId});\n",
       "                        } else if (message.task === 'getAttributes') {\n",
       "                            that.send({event: 'getAttributes', response: message.response});\n",
       "                        }\n",
       "                    }\n",
       "                }\n",
       "            };\n",
       "\n",
       "            window.removeEventListener('message', window.messageListeners[graphId]);\n",
       "            window.addEventListener('message', window.messageListeners[graphId]);\n",
       "\n",
       "        },\n",
       "\n",
       "        update: function() {\n",
       "            // Listen for messages from the graph widget in python\n",
       "            var jmessage = this.model.get('_message');\n",
       "            var message = JSON.parse(jmessage);\n",
       "\n",
       "            // check for duplicate messages\n",
       "            if(!('messageIds' in window)){\n",
       "                window.messageIds = {};\n",
       "            }\n",
       "\n",
       "            if(!(message.uid in window.messageIds)){\n",
       "                // message hasn't been received yet, do stuff\n",
       "                window.messageIds[message.uid] = true;\n",
       "\n",
       "                if (message.fadeTo) {\n",
       "                    this.fadeTo(message);\n",
       "                } else {\n",
       "                    var plot = $('#' + message.graphId)[0].contentWindow;\n",
       "                    plot.postMessage(message, window.plotlyDomains[message.graphId]);\n",
       "                }\n",
       "            }\n",
       "\n",
       "            return GraphView.__super__.update.apply(this);\n",
       "        },\n",
       "\n",
       "        /**\n",
       "         * Wrapper for jquery's `fadeTo` function.\n",
       "         *\n",
       "         * @param message Contains the id we need to find the element.\n",
       "         */\n",
       "        fadeTo: function (message) {\n",
       "            var plot = $('#' + message.graphId);\n",
       "            plot.fadeTo(message.duration, message.opacity);\n",
       "        }\n",
       "    });\n",
       "\n",
       "    // Register the GraphView with the widget manager.\n",
       "    manager.WidgetManager.register_widget_view('GraphView', GraphView);\n",
       "\n",
       "});\n",
       "\n",
       "//@ sourceURL=graphWidget.js\n"
      ],
      "text/plain": [
       "<IPython.core.display.Javascript object>"
      ]
     },
     "metadata": {},
     "output_type": "display_data"
    }
   ],
   "source": [
    "import plotly.plotly as py\n",
    "import ipywidgets as widgets\n",
    "\n",
    "from ipywidgets import interact, interactive, fixed\n",
    "from IPython.core.display import HTML\n",
    "from IPython.display import display, clear_output\n",
    "from plotly.widgets import GraphWidget\n",
    "\n",
    "\n",
    "styles = '''<style>.widget-hslider { width: 100%; }\n",
    "    .widget-hbox { width: 100% !important; }\n",
    "    .widget-slider { width: 100% !important; }</style>'''\n",
    "\n",
    "HTML(styles)\n",
    "\n",
    "#this widget will display our plotly chart\n",
    "graph = GraphWidget(\"https://plot.ly/~chriddyp/674\")\n",
    "fig = py.get_figure(\"https://plot.ly/~chriddyp/674\")\n",
    "\n",
    "#find the range of the slider.\n",
    "xmin, xmax = fig['layout']['xaxis']['range']\n",
    "\n",
    "# use the interact decorator to tie a widget to the listener function\n",
    "@interact(y=widgets.FloatRangeSlider(min=xmin, max=xmax, step=(xmax-xmin)/1000.0, continuous_update=False))\n",
    "def update_plot(y):\n",
    "    graph.relayout({'xaxis.range[0]': y[0], 'xaxis.range[1]': y[1]})\n",
    "    \n",
    "#display the app    \n",
    "graph"
   ]
  },
  {
   "cell_type": "code",
   "execution_count": 90,
   "metadata": {
    "collapsed": true
   },
   "outputs": [],
   "source": [
    "# For each state, the energy profile for the year 2009\n",
    "#make_profile_df(dfCA2009)\n",
    "#make_profile_df(dfNM2009)\n",
    "#make_profile_df(dfAZ2009)\n",
    "#make_profile_df(dfTX2009)"
   ]
  },
  {
   "cell_type": "code",
   "execution_count": null,
   "metadata": {
    "collapsed": true
   },
   "outputs": [],
   "source": []
  }
 ],
 "metadata": {
  "anaconda-cloud": {},
  "kernelspec": {
   "display_name": "Python [default]",
   "language": "python",
   "name": "python3"
  },
  "language_info": {
   "codemirror_mode": {
    "name": "ipython",
    "version": 3
   },
   "file_extension": ".py",
   "mimetype": "text/x-python",
   "name": "python",
   "nbconvert_exporter": "python",
   "pygments_lexer": "ipython3",
   "version": "3.5.2"
  }
 },
 "nbformat": 4,
 "nbformat_minor": 1
}
