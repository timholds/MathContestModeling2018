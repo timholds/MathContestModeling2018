{
 "cells": [
  {
   "cell_type": "code",
   "execution_count": 18,
   "metadata": {
    "collapsed": false
   },
   "outputs": [],
   "source": [
    "import pandas as pd\n",
    "from pandas.plotting import table\n",
    "import numpy as np\n",
    "import matplotlib.pyplot as plt\n",
    "%matplotlib inline  \n"
   ]
  },
  {
   "cell_type": "code",
   "execution_count": 19,
   "metadata": {
    "collapsed": false
   },
   "outputs": [],
   "source": [
    "def data_in():\n",
    "    \n",
    "    ''' Takes in data from the CSV, gets the relevant data, and returns a dataframe '''\n",
    "    \n",
    "    df = pd.read_csv('ProblemCData.csv')\n",
    "    material_codes = ['FFTCB', 'PATCB', 'EMTCB', 'MGTCB', 'JFTCB', 'NGTCB','CLTCB','WWTCB', 'DFTCB', 'RFTCB','NUEGB','RETCB','HYTCB','GETCB','SOTCB','WYTCB', 'BMTCB'] # list of material codes from excel[]\n",
    "\n",
    "    data = df.loc[df['MSN'].isin(material_codes)]\n",
    "    return data\n"
   ]
  },
  {
   "cell_type": "code",
   "execution_count": 22,
   "metadata": {
    "collapsed": false
   },
   "outputs": [],
   "source": [
    "def get_state_data_for_plotting(state1):\n",
    "    state = state1\n",
    "    df = data_in()\n",
    "    data1 = df[df.loc[:, 'StateCode'] == state]\n",
    "    # Get their data for the relevant columns as a series over all the years\n",
    "\n",
    "    data = data1.filter(items=['Year', 'MSN', 'Data']).set_index(['Year'])\n",
    "    # print(data)\n",
    "\n",
    "    dfPA = data[data.loc[:, 'MSN'] == 'PATCB']\n",
    "    dfEM = data[data.loc[:, 'MSN'] == 'EMTCB']\n",
    "    dfJF = data[data.loc[:, 'MSN'] == 'JFTCB']\n",
    "    dfMG = data[data.loc[:, 'MSN'] == 'MGTCB']\n",
    "    dfRF = data[data.loc[:, 'MSN'] == 'RFTCB']\n",
    "    dfDF = data[data.loc[:, 'MSN'] == 'DFTCB']\n",
    "    petro = dfPA.loc[:, 'Data'] + dfEM.loc[:, 'Data'] + dfJF.loc[:, 'Data'] + dfMG.loc[:, 'Data'] + dfRF.loc[:,\n",
    "                                                                                                    'Data'] + dfDF.loc[\n",
    "                                                                                                              :, 'Data']\n",
    "\n",
    "    dfNG = data[data.loc[:, 'MSN'] == 'NGTCB']\n",
    "    natural_gas = dfNG.loc[:, 'Data']\n",
    "\n",
    "    dfCoal = data[data.loc[:, 'MSN'] == 'CLTCB']\n",
    "    dataCoal = dfCoal.loc[:, 'Data']\n",
    "\n",
    "    dfWood = data[data.loc[:, 'MSN'] == 'WWTCB']\n",
    "    dataWood = dfWood.loc[:, 'Data']\n",
    "    coal_wood = dataCoal + dataWood\n",
    "\n",
    "    dfNuc = data[data.loc[:, 'MSN'] == 'NUEGB']\n",
    "    nuclear = dfNuc.loc[:, 'Data']\n",
    "\n",
    "    dfWind = data[data.loc[:, 'MSN'] == 'WYTCB']\n",
    "    wind = dfWind.loc[:, 'Data']\n",
    "\n",
    "    dfSol = data[data.loc[:, 'MSN'] == 'SOTCB']\n",
    "    solar = dfSol.loc[:, 'Data']\n",
    "\n",
    "    dfHydro = data[data.loc[:, 'MSN'] == 'HYTCB']\n",
    "    hydro = dfHydro.loc[:, 'Data']\n",
    "\n",
    "    dfGeo = data[data.loc[:, 'MSN'] == 'GETCB']\n",
    "    geo = dfGeo.loc[:, 'Data']\n",
    "\n",
    "    dfBio = data[data.loc[:, 'MSN'] == 'BMTCB']\n",
    "    bio = dfBio.loc[:, 'Data']\n",
    "\n",
    "    data_labels = ['petro', 'natural_gas', 'coal_wood', 'nuclear', 'wind', 'solar', 'hydro', 'geo', 'bio']\n",
    "    data_values = [petro, natural_gas, coal_wood, nuclear, wind, solar, hydro, geo, bio]\n",
    "    dataf = pd.DataFrame(index = data_labels, data=data_values)\n",
    "\n",
    "    return dataf\n",
    "\n",
    "#get_state_data_for_plotting('CA')"
   ]
  },
  {
   "cell_type": "code",
   "execution_count": null,
   "metadata": {
    "collapsed": true
   },
   "outputs": [],
   "source": []
  },
  {
   "cell_type": "code",
   "execution_count": 23,
   "metadata": {
    "collapsed": false
   },
   "outputs": [],
   "source": [
    "def get_materials_numbers(data):\n",
    "    \n",
    "    ''' Aggregate the data from different specific energy sources into general sources'''\n",
    "    \n",
    "    dfPA = data[data.loc[:, 'MSN']== 'PATCB']\n",
    "    dfEM = data[data.loc[:, 'MSN']== 'EMTCB']\n",
    "    dfJF = data[data.loc[:, 'MSN']== 'JFTCB']\n",
    "    dfMG = data[data.loc[:, 'MSN']== 'MGTCB']\n",
    "    dfRF = data[data.loc[:, 'MSN']== 'RFTCB']\n",
    "    dfDF = data[data.loc[:, 'MSN']== 'DFTCB']\n",
    "    petro = dfPA.loc[:, 'Data'].values + dfEM.loc[:, 'Data'].values + dfJF.loc[:, 'Data'].values + dfMG.loc[:, 'Data'].values + dfRF.loc[:, 'Data'].values + dfDF.loc[:, 'Data'].values\n",
    "\n",
    "    dfNG = data[data.loc[:, 'MSN']== 'NGTCB']\n",
    "    natural_gas = dfNG.loc[:, 'Data'].values\n",
    "    \n",
    "    dfCoal = data[data.loc[:, 'MSN']== 'CLTCB']\n",
    "    dfWood = data[data.loc[:, 'MSN']== 'WWTCB'] \n",
    "    coal_wood = dfCoal.loc[:, 'Data'].values + dfWood.loc[:, 'Data'].values \n",
    "    \n",
    "    dfNuc = data[data.loc[:, 'MSN']== 'NUEGB'] \n",
    "    nuclear = dfNuc.loc[:, 'Data'].values\n",
    "    \n",
    "    dfWind = data[data.loc[:, 'MSN']== 'WYTCB'] \n",
    "    wind = dfWind.loc[:, 'Data'].values\n",
    "    \n",
    "    dfSol = data[data.loc[:, 'MSN']== 'SOTCB'] \n",
    "    solar = dfSol.loc[:, 'Data'].values\n",
    "    \n",
    "    dfHydro = data[data.loc[:, 'MSN']== 'HYTCB'] \n",
    "    hydro = dfHydro.loc[:, 'Data'].values\n",
    "    \n",
    "    dfGeo = data[data.loc[:, 'MSN']== 'GETCB'] \n",
    "    geo = dfGeo.loc[:, 'Data'].values\n",
    "    \n",
    "    dfBio = data[data.loc[:, 'MSN']== 'BMTCB'] \n",
    "    bio = dfBio.loc[:, 'Data'].values\n",
    "    \n",
    "    total = petro + natural_gas + coal_wood + nuclear + wind + solar + hydro + geo + bio\n",
    "    \n",
    "    data_values = [petro, natural_gas, coal_wood, nuclear, wind, solar, hydro, geo, bio, total]\n",
    "    return data_values\n",
    "    \n",
    "#get_materials_numbers(data)"
   ]
  },
  {
   "cell_type": "code",
   "execution_count": 24,
   "metadata": {
    "collapsed": false
   },
   "outputs": [],
   "source": [
    "def state_df(df, state):\n",
    "    \n",
    "    ''' Get data for a single state and return the dataframe '''\n",
    "    \n",
    "    state_df = df[df['StateCode']== state]\n",
    "    return state_df\n",
    "\n",
    "def year_df(df, year):\n",
    "    \n",
    "    ''' Get data for a single year and return the dataframe '''\n",
    "    \n",
    "    year_df = df[df['Year']== year]\n",
    "    return year_df\n"
   ]
  },
  {
   "cell_type": "code",
   "execution_count": 25,
   "metadata": {
    "collapsed": false,
    "scrolled": true
   },
   "outputs": [],
   "source": [
    "def make_profile_df_unrefined(df):\n",
    "    \n",
    "    ''' Prepare the data to make energy profile for a given state in a given year\n",
    "        :param dataframe in the form dfStateYear\n",
    "        :returns df, which each cell is populated by a list'''\n",
    "    \n",
    "    data_abs = get_materials_numbers(df)\n",
    "    total = sum(data_abs)\n",
    "    \n",
    "    data_rel = []\n",
    "    for i in range(len(data_abs)):\n",
    "        data_rel.append((data_abs[i] / total) *2)\n",
    "    materials = ['Petroleum and Oil', 'Natural Gas', 'Coal and Wood', 'Nuclear', 'Wind', 'Solar', 'Hydroelectric', 'Geothermal', 'Biomass', 'total']\n",
    "    inputs = {'Usage in BTUs': data_abs, 'Percenage of Total Energy Consumed': data_rel}\n",
    "    data = pd.DataFrame(inputs, index=materials)\n",
    "    return data\n",
    "\n",
    "#fd = make_profile_df_unrefined(dfCA2009)\n",
    "#fd"
   ]
  },
  {
   "cell_type": "code",
   "execution_count": 26,
   "metadata": {
    "collapsed": false
   },
   "outputs": [],
   "source": [
    "def turn_profile_df_lists_to_numbers(df):\n",
    "    \n",
    "    ''' Takes in a df in which each cell is populated by a list.\n",
    "        Returns a df in which each cell is a float'''\n",
    "    \n",
    "    s = df.loc[:, 'Percenage of Total Energy Consumed']\n",
    "    percentage_list = []\n",
    "    for x in s:\n",
    "        percentage_list.extend(x*100)\n",
    "\n",
    "    t = fd.loc[:, 'Usage in BTUs']\n",
    "    usage_list = []\n",
    "    for y in t:\n",
    "        usage_list.extend(y)\n",
    "    return usage_list, percentage_list\n",
    "\n",
    "#usage_list, percentage_list = turn_profile_df_lists_to_numbers(fd)"
   ]
  },
  {
   "cell_type": "code",
   "execution_count": 27,
   "metadata": {
    "collapsed": false
   },
   "outputs": [],
   "source": [
    "def make_profile_df(usage_list, percentage_list):\n",
    "    \n",
    "    ''' Returns a profile for a states energy use in a year as a dataframe'''\n",
    "    \n",
    "    pd.options.display.float_format = '{:,.2f}'.format\n",
    "     \n",
    "    materials = ['Petroleum and Oil', 'Natural Gas', 'Coal and Wood', 'Nuclear', 'Wind', 'Solar', 'Hydroelectric', 'Geothermal', 'Biomass', 'Total']\n",
    "    inputs = {'Usage in BTUs': usage_list, 'Percentage of Total Energy Consumed': percentage_list}\n",
    "    data = pd.DataFrame(inputs, index=materials).sort_values(by=['Percentage of Total Energy Consumed'], ascending=False)\n",
    "    data.columns.name = 'California Energy Profile for 2009'\n",
    "\n",
    "    return data\n",
    "\n",
    "#dfCA2009_profile = make_profile_df(usage_list, percentage_list)\n",
    "#dfCA2009_profile.name = 'California 2009 Profile'\n",
    "#dfCA2009_profile.plot.line()\n",
    "\n"
   ]
  },
  {
   "cell_type": "code",
   "execution_count": 28,
   "metadata": {
    "collapsed": false
   },
   "outputs": [],
   "source": [
    "# Plot relative sources of energy used in a given state for a given year\n",
    "def plot_sources_pie(df):\n",
    "    \n",
    "    ''' Create a pie chart for energy sources for a given state in a given year '''\n",
    "\n",
    "    profile_df = make_profile_df(df)\n",
    "    percentages = profile_df.loc[:, 'Percentage of Total Energy Consumed']\n",
    "    #print(percentages)\n",
    "    \n",
    "    materials = ['Petroleum and Oil', 'Natural Gas', 'Coal and Wood', 'Nuclear', 'Wind', 'Solar', 'Other']\n",
    "    print('Where Other is Hydroelectric, Geothermal, & Biomass')\n",
    "    colors = ['red', 'red', 'red', 'red', 'green', 'green', 'green']\n",
    "    scaling = 5\n",
    "    \n",
    "    sizes = [item*scaling for item in percentages[:-1]]\n",
    "    print(len(sizes))\n",
    "    # TODO switch out the sizes and use the one representing the actual data\n",
    "    \n",
    "    #sizes = proportion * scaling\n",
    "    #sizes = [215, 130, 245, 210, 215, 130, 245, 210]\n",
    "    explode = (0.1, 0.1, 0.1, 0.1, 0.1, 0.1, 0.1)  # explode 1st slice\n",
    "\n",
    "    plt.pie(sizes, explode=explode, labels=materials, colors=colors,\n",
    "            autopct='%5.1f%%', shadow=True, startangle=140)\n",
    "    plt.axis('equal')\n",
    "    plt.show()"
   ]
  },
  {
   "cell_type": "code",
   "execution_count": 29,
   "metadata": {
    "collapsed": false
   },
   "outputs": [],
   "source": [
    "def plot_df(df):\n",
    "    \n",
    "    ''' Not sure if I still need this method '''\n",
    "    \n",
    "    ax = plt.subplot(111) #, frame_on=False) # no visible frame\n",
    "    ax.xaxis.set_visible(False)  # hide the x axis\n",
    "    ax.yaxis.set_visible(False)  # hide the y axis\n",
    "\n",
    "    table(ax, df)  # where df is your data frame\n",
    "\n",
    "    plt.show(table)\n",
    "    \n"
   ]
  },
  {
   "cell_type": "code",
   "execution_count": 30,
   "metadata": {
    "collapsed": true
   },
   "outputs": [],
   "source": [
    "def get_state_profiles_2009(state):\n",
    "    \n",
    "    ''' For a given state, show their energy profile in 2009'''\n",
    "    \n",
    "    df = data_in()\n",
    "    make_profile_df_unrefined(df)\n",
    "    make\n",
    "    state_df(state)\n",
    "    year_df(2009)\n",
    "    get_materials_numbers(df)\n",
    "    plot_df()\n",
    "    plot_sources_pi()\n",
    "\n",
    "    "
   ]
  },
  {
   "cell_type": "code",
   "execution_count": 31,
   "metadata": {
    "collapsed": true
   },
   "outputs": [],
   "source": [
    "def get_state_data_for_plotting(state1):\n",
    "    state = state1\n",
    "    df = data_in()\n",
    "    data1 = df[df.loc[:, 'StateCode'] == state]\n",
    "    # Get their data for the relevant columns as a series over all the years\n",
    "\n",
    "    data = data1.filter(items=['Year', 'MSN', 'Data']).set_index(['Year'])\n",
    "    # print(data)\n",
    "\n",
    "    dfPA = data[data.loc[:, 'MSN'] == 'PATCB']\n",
    "    dfEM = data[data.loc[:, 'MSN'] == 'EMTCB']\n",
    "    dfJF = data[data.loc[:, 'MSN'] == 'JFTCB']\n",
    "    dfMG = data[data.loc[:, 'MSN'] == 'MGTCB']\n",
    "    dfRF = data[data.loc[:, 'MSN'] == 'RFTCB']\n",
    "    dfDF = data[data.loc[:, 'MSN'] == 'DFTCB']\n",
    "    petro = dfPA.loc[:, 'Data'] + dfEM.loc[:, 'Data'] + dfJF.loc[:, 'Data'] + dfMG.loc[:, 'Data'] + dfRF.loc[:, 'Data'] + dfDF.loc[:, 'Data']\n",
    "\n",
    "    dfNG = data[data.loc[:, 'MSN'] == 'NGTCB']\n",
    "    natural_gas = dfNG.loc[:, 'Data']\n",
    "\n",
    "    dfCoal = data[data.loc[:, 'MSN'] == 'CLTCB']\n",
    "    dataCoal = dfCoal.loc[:, 'Data']\n",
    "\n",
    "    dfWood = data[data.loc[:, 'MSN'] == 'WWTCB']\n",
    "    dataWood = dfWood.loc[:, 'Data']\n",
    "    coal_wood = dataCoal + dataWood\n",
    "\n",
    "    dfNuc = data[data.loc[:, 'MSN'] == 'NUEGB']\n",
    "    nuclear = dfNuc.loc[:, 'Data']\n",
    "\n",
    "    dfWind = data[data.loc[:, 'MSN'] == 'WYTCB']\n",
    "    wind = dfWind.loc[:, 'Data']\n",
    "\n",
    "    dfSol = data[data.loc[:, 'MSN'] == 'SOTCB']\n",
    "    solar = dfSol.loc[:, 'Data']\n",
    "\n",
    "    dfHydro = data[data.loc[:, 'MSN'] == 'HYTCB']\n",
    "    hydro = dfHydro.loc[:, 'Data']\n",
    "\n",
    "    dfGeo = data[data.loc[:, 'MSN'] == 'GETCB']\n",
    "    geo = dfGeo.loc[:, 'Data']\n",
    "\n",
    "    dfBio = data[data.loc[:, 'MSN'] == 'BMTCB']\n",
    "    bio = dfBio.loc[:, 'Data']\n",
    "\n",
    "    data_labels = ['petro', 'natural_gas', 'coal_wood', 'nuclear', 'wind', 'solar', 'hydro', 'geo', 'bio']\n",
    "    data_values = [petro, natural_gas, coal_wood, nuclear, wind, solar, hydro, geo, bio]\n",
    "    dataf = pd.DataFrame(index = data_labels, data=data_values)\n",
    "\n",
    "    return dataf"
   ]
  },
  {
   "cell_type": "code",
   "execution_count": 35,
   "metadata": {
    "collapsed": false
   },
   "outputs": [
    {
     "data": {
      "text/plain": [
       "<matplotlib.axes._subplots.AxesSubplot at 0x107eeb3c8>"
      ]
     },
     "execution_count": 35,
     "metadata": {},
     "output_type": "execute_result"
    },
    {
     "data": {
      "image/png": "[encoded data removed]",
      "text/plain": [
       "<matplotlib.figure.Figure at 0x107eebcf8>"
      ]
     },
     "metadata": {},
     "output_type": "display_data"
    }
   ],
   "source": [
    "df = get_state_data_for_plotting('CA')\n",
    "petro_data = df.loc['petro', :]\n",
    "natural_gas = df.loc['natural_gas', :]\n",
    "petro_data.plot.line()\n",
    "year_data = pd.Series(range(1960, 2009))\n",
    "\n",
    "ts = pd.Series(petro_data, index=year_data)\n",
    "\n",
    "#ts = pd.Series(np.random.randn(1000), index=pd.date_range('1/1/2000', periods=1000))\n",
    "df = pd.DataFrame(natural_gas, index=ts.index, columns=list('ABCD'))\n",
    "ts.plot()\n",
    "\n",
    "plt.figure(figsize=(12,5))\n",
    "plt.xlabel('Number of requests every 10 minutes')\n",
    "\n",
    "ax1 = df.A.plot(color='blue', grid=True, label='Count')\n",
    "ax2 = df.B.plot(color='red', grid=True, secondary_y=True, label='Sum')\n",
    "\n",
    "h1, l1 = ax1.get_legend_handles_labels()\n",
    "h2, l2 = ax2.get_legend_handles_labels()\n",
    "\n",
    "\n",
    "plt.legend(h1+h2, l1+l2, loc=2)\n",
    "plt.show()\n"
   ]
  },
  {
   "cell_type": "code",
   "execution_count": 59,
   "metadata": {
    "collapsed": false
   },
   "outputs": [],
   "source": [
    "sr = pd.Series([1, 2, 3])\n",
    "sr1 = pd.Series([2, 3, 4])"
   ]
  },
  {
   "cell_type": "code",
   "execution_count": 53,
   "metadata": {
    "collapsed": false
   },
   "outputs": [
    {
     "data": {
      "text/html": [
       "<div>\n",
       "<style scoped>\n",
       "    .dataframe tbody tr th:only-of-type {\n",
       "        vertical-align: middle;\n",
       "    }\n",
       "\n",
       "    .dataframe tbody tr th {\n",
       "        vertical-align: top;\n",
       "    }\n",
       "\n",
       "    .dataframe thead th {\n",
       "        text-align: right;\n",
       "    }\n",
       "</style>\n",
       "<table border=\"1\" class=\"dataframe\">\n",
       "  <thead>\n",
       "    <tr style=\"text-align: right;\">\n",
       "      <th>Year</th>\n",
       "      <th>1960</th>\n",
       "      <th>1961</th>\n",
       "      <th>1962</th>\n",
       "      <th>1963</th>\n",
       "      <th>1964</th>\n",
       "      <th>1965</th>\n",
       "      <th>1966</th>\n",
       "      <th>1967</th>\n",
       "      <th>1968</th>\n",
       "      <th>1969</th>\n",
       "      <th>...</th>\n",
       "      <th>2000</th>\n",
       "      <th>2001</th>\n",
       "      <th>2002</th>\n",
       "      <th>2003</th>\n",
       "      <th>2004</th>\n",
       "      <th>2005</th>\n",
       "      <th>2006</th>\n",
       "      <th>2007</th>\n",
       "      <th>2008</th>\n",
       "      <th>2009</th>\n",
       "    </tr>\n",
       "  </thead>\n",
       "  <tbody>\n",
       "    <tr>\n",
       "      <th>petro</th>\n",
       "      <td>3.361114e+06</td>\n",
       "      <td>3.480696e+06</td>\n",
       "      <td>3.438363e+06</td>\n",
       "      <td>3.526657e+06</td>\n",
       "      <td>3.735911e+06</td>\n",
       "      <td>3.855881e+06</td>\n",
       "      <td>4.117258e+06</td>\n",
       "      <td>4.197710e+06</td>\n",
       "      <td>4.472177e+06</td>\n",
       "      <td>4.557976e+06</td>\n",
       "      <td>...</td>\n",
       "      <td>6.726397e+06</td>\n",
       "      <td>6.750730e+06</td>\n",
       "      <td>6.983499e+06</td>\n",
       "      <td>7.221184e+06</td>\n",
       "      <td>7.141655e+06</td>\n",
       "      <td>7.304474e+06</td>\n",
       "      <td>7.385902e+06</td>\n",
       "      <td>7.443025e+06</td>\n",
       "      <td>7.080602e+06</td>\n",
       "      <td>6.863216e+06</td>\n",
       "    </tr>\n",
       "    <tr>\n",
       "      <th>natural_gas</th>\n",
       "      <td>1.301826e+06</td>\n",
       "      <td>1.400174e+06</td>\n",
       "      <td>1.483423e+06</td>\n",
       "      <td>1.623370e+06</td>\n",
       "      <td>1.817241e+06</td>\n",
       "      <td>1.813213e+06</td>\n",
       "      <td>1.982305e+06</td>\n",
       "      <td>2.048734e+06</td>\n",
       "      <td>2.187260e+06</td>\n",
       "      <td>2.189883e+06</td>\n",
       "      <td>...</td>\n",
       "      <td>2.456438e+06</td>\n",
       "      <td>2.513856e+06</td>\n",
       "      <td>2.318656e+06</td>\n",
       "      <td>2.317063e+06</td>\n",
       "      <td>2.462247e+06</td>\n",
       "      <td>2.304463e+06</td>\n",
       "      <td>2.375929e+06</td>\n",
       "      <td>2.441192e+06</td>\n",
       "      <td>2.475017e+06</td>\n",
       "      <td>2.391377e+06</td>\n",
       "    </tr>\n",
       "    <tr>\n",
       "      <th>coal_wood</th>\n",
       "      <td>1.180006e+05</td>\n",
       "      <td>1.426126e+05</td>\n",
       "      <td>1.265787e+05</td>\n",
       "      <td>1.391490e+05</td>\n",
       "      <td>1.521590e+05</td>\n",
       "      <td>1.611807e+05</td>\n",
       "      <td>1.521876e+05</td>\n",
       "      <td>1.558338e+05</td>\n",
       "      <td>1.672843e+05</td>\n",
       "      <td>1.762833e+05</td>\n",
       "      <td>...</td>\n",
       "      <td>2.291925e+05</td>\n",
       "      <td>2.239894e+05</td>\n",
       "      <td>2.320692e+05</td>\n",
       "      <td>2.247696e+05</td>\n",
       "      <td>2.246598e+05</td>\n",
       "      <td>2.130099e+05</td>\n",
       "      <td>2.063941e+05</td>\n",
       "      <td>2.048708e+05</td>\n",
       "      <td>2.027798e+05</td>\n",
       "      <td>1.925623e+05</td>\n",
       "    </tr>\n",
       "    <tr>\n",
       "      <th>nuclear</th>\n",
       "      <td>5.116800e-01</td>\n",
       "      <td>5.527264e+01</td>\n",
       "      <td>8.384509e+01</td>\n",
       "      <td>2.287605e+03</td>\n",
       "      <td>4.368917e+03</td>\n",
       "      <td>3.192781e+03</td>\n",
       "      <td>1.895467e+03</td>\n",
       "      <td>6.502680e+03</td>\n",
       "      <td>1.700341e+04</td>\n",
       "      <td>2.712708e+04</td>\n",
       "      <td>...</td>\n",
       "      <td>3.668453e+05</td>\n",
       "      <td>3.469114e+05</td>\n",
       "      <td>3.587071e+05</td>\n",
       "      <td>3.709229e+05</td>\n",
       "      <td>3.156033e+05</td>\n",
       "      <td>3.773125e+05</td>\n",
       "      <td>3.335202e+05</td>\n",
       "      <td>3.752843e+05</td>\n",
       "      <td>3.395380e+05</td>\n",
       "      <td>3.322494e+05</td>\n",
       "    </tr>\n",
       "    <tr>\n",
       "      <th>wind</th>\n",
       "      <td>0.000000e+00</td>\n",
       "      <td>0.000000e+00</td>\n",
       "      <td>0.000000e+00</td>\n",
       "      <td>0.000000e+00</td>\n",
       "      <td>0.000000e+00</td>\n",
       "      <td>0.000000e+00</td>\n",
       "      <td>0.000000e+00</td>\n",
       "      <td>0.000000e+00</td>\n",
       "      <td>0.000000e+00</td>\n",
       "      <td>0.000000e+00</td>\n",
       "      <td>...</td>\n",
       "      <td>3.588735e+04</td>\n",
       "      <td>3.616279e+04</td>\n",
       "      <td>3.868431e+04</td>\n",
       "      <td>3.989311e+04</td>\n",
       "      <td>4.315348e+04</td>\n",
       "      <td>4.261803e+04</td>\n",
       "      <td>4.843250e+04</td>\n",
       "      <td>5.520148e+04</td>\n",
       "      <td>5.306335e+04</td>\n",
       "      <td>5.699658e+04</td>\n",
       "    </tr>\n",
       "    <tr>\n",
       "      <th>solar</th>\n",
       "      <td>0.000000e+00</td>\n",
       "      <td>0.000000e+00</td>\n",
       "      <td>0.000000e+00</td>\n",
       "      <td>0.000000e+00</td>\n",
       "      <td>0.000000e+00</td>\n",
       "      <td>0.000000e+00</td>\n",
       "      <td>0.000000e+00</td>\n",
       "      <td>0.000000e+00</td>\n",
       "      <td>0.000000e+00</td>\n",
       "      <td>0.000000e+00</td>\n",
       "      <td>...</td>\n",
       "      <td>2.312079e+04</td>\n",
       "      <td>2.307217e+04</td>\n",
       "      <td>2.253385e+04</td>\n",
       "      <td>2.204665e+04</td>\n",
       "      <td>2.232612e+04</td>\n",
       "      <td>2.203508e+04</td>\n",
       "      <td>2.316526e+04</td>\n",
       "      <td>2.555711e+04</td>\n",
       "      <td>2.923194e+04</td>\n",
       "      <td>3.139701e+04</td>\n",
       "    </tr>\n",
       "    <tr>\n",
       "      <th>hydro</th>\n",
       "      <td>1.877045e+05</td>\n",
       "      <td>1.636701e+05</td>\n",
       "      <td>2.410874e+05</td>\n",
       "      <td>2.655512e+05</td>\n",
       "      <td>2.311882e+05</td>\n",
       "      <td>3.190521e+05</td>\n",
       "      <td>2.732466e+05</td>\n",
       "      <td>3.680075e+05</td>\n",
       "      <td>2.825605e+05</td>\n",
       "      <td>4.222435e+05</td>\n",
       "      <td>...</td>\n",
       "      <td>3.910430e+05</td>\n",
       "      <td>2.639232e+05</td>\n",
       "      <td>3.167936e+05</td>\n",
       "      <td>3.724724e+05</td>\n",
       "      <td>3.421604e+05</td>\n",
       "      <td>3.962790e+05</td>\n",
       "      <td>4.765820e+05</td>\n",
       "      <td>2.701075e+05</td>\n",
       "      <td>2.377554e+05</td>\n",
       "      <td>2.721872e+05</td>\n",
       "    </tr>\n",
       "    <tr>\n",
       "      <th>geo</th>\n",
       "      <td>3.590397e+02</td>\n",
       "      <td>1.001324e+03</td>\n",
       "      <td>1.060678e+03</td>\n",
       "      <td>1.760483e+03</td>\n",
       "      <td>2.132061e+03</td>\n",
       "      <td>1.977854e+03</td>\n",
       "      <td>1.957895e+03</td>\n",
       "      <td>3.299735e+03</td>\n",
       "      <td>4.531719e+03</td>\n",
       "      <td>6.421875e+03</td>\n",
       "      <td>...</td>\n",
       "      <td>1.275997e+05</td>\n",
       "      <td>1.280773e+05</td>\n",
       "      <td>1.352209e+05</td>\n",
       "      <td>1.348164e+05</td>\n",
       "      <td>1.333269e+05</td>\n",
       "      <td>1.323754e+05</td>\n",
       "      <td>1.293185e+05</td>\n",
       "      <td>1.305924e+05</td>\n",
       "      <td>1.291428e+05</td>\n",
       "      <td>1.274611e+05</td>\n",
       "    </tr>\n",
       "    <tr>\n",
       "      <th>bio</th>\n",
       "      <td>8.209753e+04</td>\n",
       "      <td>8.350611e+04</td>\n",
       "      <td>8.689765e+04</td>\n",
       "      <td>9.302164e+04</td>\n",
       "      <td>9.843628e+04</td>\n",
       "      <td>9.748784e+04</td>\n",
       "      <td>1.006725e+05</td>\n",
       "      <td>1.018848e+05</td>\n",
       "      <td>1.102737e+05</td>\n",
       "      <td>1.162527e+05</td>\n",
       "      <td>...</td>\n",
       "      <td>1.649887e+05</td>\n",
       "      <td>1.641221e+05</td>\n",
       "      <td>1.714738e+05</td>\n",
       "      <td>2.058183e+05</td>\n",
       "      <td>2.284359e+05</td>\n",
       "      <td>2.254952e+05</td>\n",
       "      <td>2.197334e+05</td>\n",
       "      <td>2.253907e+05</td>\n",
       "      <td>2.283089e+05</td>\n",
       "      <td>2.246625e+05</td>\n",
       "    </tr>\n",
       "    <tr>\n",
       "      <th>renewables</th>\n",
       "      <td>0.000000e+00</td>\n",
       "      <td>0.000000e+00</td>\n",
       "      <td>0.000000e+00</td>\n",
       "      <td>0.000000e+00</td>\n",
       "      <td>0.000000e+00</td>\n",
       "      <td>0.000000e+00</td>\n",
       "      <td>0.000000e+00</td>\n",
       "      <td>0.000000e+00</td>\n",
       "      <td>0.000000e+00</td>\n",
       "      <td>0.000000e+00</td>\n",
       "      <td>...</td>\n",
       "      <td>5.900814e+04</td>\n",
       "      <td>5.923496e+04</td>\n",
       "      <td>6.121816e+04</td>\n",
       "      <td>6.193975e+04</td>\n",
       "      <td>6.547960e+04</td>\n",
       "      <td>6.465311e+04</td>\n",
       "      <td>7.159776e+04</td>\n",
       "      <td>8.075859e+04</td>\n",
       "      <td>8.229528e+04</td>\n",
       "      <td>8.839358e+04</td>\n",
       "    </tr>\n",
       "  </tbody>\n",
       "</table>\n",
       "<p>10 rows × 50 columns</p>\n",
       "</div>"
      ],
      "text/plain": [
       "Year                 1960          1961          1962          1963  \\\n",
       "petro        3.361114e+06  3.480696e+06  3.438363e+06  3.526657e+06   \n",
       "natural_gas  1.301826e+06  1.400174e+06  1.483423e+06  1.623370e+06   \n",
       "coal_wood    1.180006e+05  1.426126e+05  1.265787e+05  1.391490e+05   \n",
       "nuclear      5.116800e-01  5.527264e+01  8.384509e+01  2.287605e+03   \n",
       "wind         0.000000e+00  0.000000e+00  0.000000e+00  0.000000e+00   \n",
       "solar        0.000000e+00  0.000000e+00  0.000000e+00  0.000000e+00   \n",
       "hydro        1.877045e+05  1.636701e+05  2.410874e+05  2.655512e+05   \n",
       "geo          3.590397e+02  1.001324e+03  1.060678e+03  1.760483e+03   \n",
       "bio          8.209753e+04  8.350611e+04  8.689765e+04  9.302164e+04   \n",
       "renewables   0.000000e+00  0.000000e+00  0.000000e+00  0.000000e+00   \n",
       "\n",
       "Year                 1964          1965          1966          1967  \\\n",
       "petro        3.735911e+06  3.855881e+06  4.117258e+06  4.197710e+06   \n",
       "natural_gas  1.817241e+06  1.813213e+06  1.982305e+06  2.048734e+06   \n",
       "coal_wood    1.521590e+05  1.611807e+05  1.521876e+05  1.558338e+05   \n",
       "nuclear      4.368917e+03  3.192781e+03  1.895467e+03  6.502680e+03   \n",
       "wind         0.000000e+00  0.000000e+00  0.000000e+00  0.000000e+00   \n",
       "solar        0.000000e+00  0.000000e+00  0.000000e+00  0.000000e+00   \n",
       "hydro        2.311882e+05  3.190521e+05  2.732466e+05  3.680075e+05   \n",
       "geo          2.132061e+03  1.977854e+03  1.957895e+03  3.299735e+03   \n",
       "bio          9.843628e+04  9.748784e+04  1.006725e+05  1.018848e+05   \n",
       "renewables   0.000000e+00  0.000000e+00  0.000000e+00  0.000000e+00   \n",
       "\n",
       "Year                 1968          1969      ...               2000  \\\n",
       "petro        4.472177e+06  4.557976e+06      ...       6.726397e+06   \n",
       "natural_gas  2.187260e+06  2.189883e+06      ...       2.456438e+06   \n",
       "coal_wood    1.672843e+05  1.762833e+05      ...       2.291925e+05   \n",
       "nuclear      1.700341e+04  2.712708e+04      ...       3.668453e+05   \n",
       "wind         0.000000e+00  0.000000e+00      ...       3.588735e+04   \n",
       "solar        0.000000e+00  0.000000e+00      ...       2.312079e+04   \n",
       "hydro        2.825605e+05  4.222435e+05      ...       3.910430e+05   \n",
       "geo          4.531719e+03  6.421875e+03      ...       1.275997e+05   \n",
       "bio          1.102737e+05  1.162527e+05      ...       1.649887e+05   \n",
       "renewables   0.000000e+00  0.000000e+00      ...       5.900814e+04   \n",
       "\n",
       "Year                 2001          2002          2003          2004  \\\n",
       "petro        6.750730e+06  6.983499e+06  7.221184e+06  7.141655e+06   \n",
       "natural_gas  2.513856e+06  2.318656e+06  2.317063e+06  2.462247e+06   \n",
       "coal_wood    2.239894e+05  2.320692e+05  2.247696e+05  2.246598e+05   \n",
       "nuclear      3.469114e+05  3.587071e+05  3.709229e+05  3.156033e+05   \n",
       "wind         3.616279e+04  3.868431e+04  3.989311e+04  4.315348e+04   \n",
       "solar        2.307217e+04  2.253385e+04  2.204665e+04  2.232612e+04   \n",
       "hydro        2.639232e+05  3.167936e+05  3.724724e+05  3.421604e+05   \n",
       "geo          1.280773e+05  1.352209e+05  1.348164e+05  1.333269e+05   \n",
       "bio          1.641221e+05  1.714738e+05  2.058183e+05  2.284359e+05   \n",
       "renewables   5.923496e+04  6.121816e+04  6.193975e+04  6.547960e+04   \n",
       "\n",
       "Year                 2005          2006          2007          2008  \\\n",
       "petro        7.304474e+06  7.385902e+06  7.443025e+06  7.080602e+06   \n",
       "natural_gas  2.304463e+06  2.375929e+06  2.441192e+06  2.475017e+06   \n",
       "coal_wood    2.130099e+05  2.063941e+05  2.048708e+05  2.027798e+05   \n",
       "nuclear      3.773125e+05  3.335202e+05  3.752843e+05  3.395380e+05   \n",
       "wind         4.261803e+04  4.843250e+04  5.520148e+04  5.306335e+04   \n",
       "solar        2.203508e+04  2.316526e+04  2.555711e+04  2.923194e+04   \n",
       "hydro        3.962790e+05  4.765820e+05  2.701075e+05  2.377554e+05   \n",
       "geo          1.323754e+05  1.293185e+05  1.305924e+05  1.291428e+05   \n",
       "bio          2.254952e+05  2.197334e+05  2.253907e+05  2.283089e+05   \n",
       "renewables   6.465311e+04  7.159776e+04  8.075859e+04  8.229528e+04   \n",
       "\n",
       "Year                 2009  \n",
       "petro        6.863216e+06  \n",
       "natural_gas  2.391377e+06  \n",
       "coal_wood    1.925623e+05  \n",
       "nuclear      3.322494e+05  \n",
       "wind         5.699658e+04  \n",
       "solar        3.139701e+04  \n",
       "hydro        2.721872e+05  \n",
       "geo          1.274611e+05  \n",
       "bio          2.246625e+05  \n",
       "renewables   8.839358e+04  \n",
       "\n",
       "[10 rows x 50 columns]"
      ]
     },
     "execution_count": 53,
     "metadata": {},
     "output_type": "execute_result"
    }
   ],
   "source": [
    "df = get_state_data_for_plotting('CA')\n",
    "df.loc['renewables'] = df.loc['wind'].add(df.loc['solar'])# + df.loc['hydro'] + df.loc['geo']) #+ df.loc['bio', ]\n",
    "df"
   ]
  },
  {
   "cell_type": "code",
   "execution_count": 41,
   "metadata": {
    "collapsed": false
   },
   "outputs": [
    {
     "name": "stdout",
     "output_type": "stream",
     "text": [
      "Index(['petro', 'natural_gas', 'coal_wood', 'nuclear', 'wind', 'solar',\n",
      "       'hydro', 'geo', 'bio'],\n",
      "      dtype='object')\n"
     ]
    },
    {
     "data": {
      "image/png": "[encoded data removed]",
      "text/plain": [
       "<matplotlib.figure.Figure at 0x110fa88d0>"
      ]
     },
     "metadata": {},
     "output_type": "display_data"
    },
    {
     "data": {
      "image/png": "[encoded data removed]",
      "text/plain": [
       "<matplotlib.figure.Figure at 0x110fa8a58>"
      ]
     },
     "metadata": {},
     "output_type": "display_data"
    }
   ],
   "source": [
    "df = get_state_data_for_plotting('CA')\n",
    "print(df.index)\n",
    "petro_data = df.loc['petro', :]\n",
    "natural_gas = df.loc['natural_gas', :]\n",
    "petro_data.plot.line()\n",
    "year_data = pd.Series(range(1960, 2009))\n",
    "\n",
    "ts = pd.Series(petro_data, index=year_data)\n",
    "\n",
    "#ts = pd.Series(np.random.randn(1000), index=pd.date_range('1/1/2000', periods=1000))\n",
    "df = pd.DataFrame(natural_gas, index=ts.index, columns=list('ABCD'))\n",
    "#ts.plot()\n",
    "\n",
    "plt.figure(figsize=(12,5))\n",
    "plt.xlabel('Number of requests every 10 minutes')\n",
    "\n",
    "ax1 = natural_gas.plot(color='blue', grid=True, label='Yearly Natural Gas Usage')\n",
    "ax2 = petro_data.plot(color='red', grid=True, secondary_y=True, label='Yearly Petro Usage')\n",
    "#ax1 = df.A.plot(color='blue', grid=True, label='Count')\n",
    "#ax2 = df.B.plot(color='red', grid=True, secondary_y=True, label='Sum')\n",
    "\n",
    "h1, l1 = ax1.get_legend_handles_labels()\n",
    "h2, l2 = ax2.get_legend_handles_labels()\n",
    "\n",
    "\n",
    "plt.legend(h1+h2, l1+l2, loc=2)\n",
    "plt.show()"
   ]
  },
  {
   "cell_type": "code",
   "execution_count": null,
   "metadata": {
    "collapsed": false
   },
   "outputs": [],
   "source": [
    "# Get the values for 2009 for all the codes for all the states\n",
    "df2009 = year_df(df, 2009)\n",
    "df2009.name = '2009 Data'\n",
    "\n",
    "dfCA = state_df(df, 'CA')\n",
    "dfCA2009 = year_df(dfCA, 2009)\n",
    "dfCA2009.name = 'California 2009 Data'\n",
    "\n",
    "dfAZ = state_df(df, 'AZ')\n",
    "dfAZ2009 = year_df(dfAZ, 2009)\n",
    "dfAZ2009.name = 'Arizona 2009 Data'\n",
    "\n",
    "dfNM = state_df(df, 'NM')\n",
    "dfNM2009 = year_df(dfNM, 2009)\n",
    "dfNM2009.name = 'New Mexico 2009 Data'\n",
    "\n",
    "dfTX = state_df(df, 'TX')\n",
    "dfTX2009 = year_df(dfTX, 2009)\n",
    "dfTX2009.name = 'Texas 2009 Data'\n"
   ]
  },
  {
   "cell_type": "code",
   "execution_count": null,
   "metadata": {
    "collapsed": false
   },
   "outputs": [],
   "source": []
  },
  {
   "cell_type": "code",
   "execution_count": 75,
   "metadata": {
    "collapsed": false
   },
   "outputs": [],
   "source": [
    "#plot_sources_pie(dfCA2009)"
   ]
  },
  {
   "cell_type": "code",
   "execution_count": 87,
   "metadata": {
    "collapsed": false
   },
   "outputs": [],
   "source": [
    "def plot_state_sources_over_time(df):\n",
    "    \n",
    "    ''' Make a line chart showing a states relative use of renewable and non renewable energy'''\n",
    "\n",
    "    \n",
    "    plt.plot(year, ff_rel_use, color='red')\n",
    "    plt.plot(year, rn_rel_use, color='green')\n",
    "    plt.xlabel('Time')\n",
    "    plt.ylabel('Percentage of Total Energy')\n",
    "    plt.title('{State} use of energy over time')\n",
    "    plt.show()\n",
    "\n",
    "#plot_state_sources_over_time(df)"
   ]
  },
  {
   "cell_type": "code",
   "execution_count": 92,
   "metadata": {
    "collapsed": false
   },
   "outputs": [
    {
     "ename": "TypeError",
     "evalue": "make_profile_df() missing 1 required positional argument: 'percentage_list'",
     "output_type": "error",
     "traceback": [
      "\u001b[0;31m---------------------------------------------------------------------------\u001b[0m",
      "\u001b[0;31mTypeError\u001b[0m                                 Traceback (most recent call last)",
      "\u001b[0;32m<ipython-input-92-2e6c9e053f60>\u001b[0m in \u001b[0;36m<module>\u001b[0;34m()\u001b[0m\n\u001b[1;32m      1\u001b[0m \u001b[0mstates\u001b[0m \u001b[0;34m=\u001b[0m \u001b[0;34m[\u001b[0m\u001b[0;34m'CA'\u001b[0m\u001b[0;34m,\u001b[0m \u001b[0;34m'AZ'\u001b[0m\u001b[0;34m,\u001b[0m \u001b[0;34m'NM'\u001b[0m\u001b[0;34m,\u001b[0m \u001b[0;34m'TX'\u001b[0m\u001b[0;34m]\u001b[0m\u001b[0;34m\u001b[0m\u001b[0m\n\u001b[1;32m      2\u001b[0m \u001b[0;32mfor\u001b[0m \u001b[0mdfStateYear\u001b[0m \u001b[0;32min\u001b[0m \u001b[0mstates\u001b[0m\u001b[0;34m:\u001b[0m\u001b[0;34m\u001b[0m\u001b[0m\n\u001b[0;32m----> 3\u001b[0;31m     \u001b[0mexample\u001b[0m \u001b[0;34m=\u001b[0m \u001b[0mplot_sources_pie\u001b[0m\u001b[0;34m(\u001b[0m\u001b[0mdfStateYear\u001b[0m\u001b[0;34m)\u001b[0m\u001b[0;34m\u001b[0m\u001b[0m\n\u001b[0m",
      "\u001b[0;32m<ipython-input-86-de902d335093>\u001b[0m in \u001b[0;36mplot_sources_pie\u001b[0;34m(df)\u001b[0m\n\u001b[1;32m      1\u001b[0m \u001b[0;31m# Plot relative sources of energy used in a given state for a given year\u001b[0m\u001b[0;34m\u001b[0m\u001b[0;34m\u001b[0m\u001b[0m\n\u001b[1;32m      2\u001b[0m \u001b[0;32mdef\u001b[0m \u001b[0mplot_sources_pie\u001b[0m\u001b[0;34m(\u001b[0m\u001b[0mdf\u001b[0m\u001b[0;34m)\u001b[0m\u001b[0;34m:\u001b[0m\u001b[0;34m\u001b[0m\u001b[0m\n\u001b[0;32m----> 3\u001b[0;31m     \u001b[0mprofile_df\u001b[0m \u001b[0;34m=\u001b[0m \u001b[0mmake_profile_df\u001b[0m\u001b[0;34m(\u001b[0m\u001b[0mdf\u001b[0m\u001b[0;34m)\u001b[0m\u001b[0;34m\u001b[0m\u001b[0m\n\u001b[0m\u001b[1;32m      4\u001b[0m     \u001b[0mpercentages\u001b[0m \u001b[0;34m=\u001b[0m \u001b[0mprofile_df\u001b[0m\u001b[0;34m.\u001b[0m\u001b[0mloc\u001b[0m\u001b[0;34m[\u001b[0m\u001b[0;34m:\u001b[0m\u001b[0;34m,\u001b[0m \u001b[0;34m'Percentage of Total Energy Consumed'\u001b[0m\u001b[0;34m]\u001b[0m\u001b[0;34m\u001b[0m\u001b[0m\n\u001b[1;32m      5\u001b[0m     \u001b[0;31m#print(percentages)\u001b[0m\u001b[0;34m\u001b[0m\u001b[0;34m\u001b[0m\u001b[0m\n",
      "\u001b[0;31mTypeError\u001b[0m: make_profile_df() missing 1 required positional argument: 'percentage_list'"
     ]
    }
   ],
   "source": [
    "states = ['CA', 'AZ', 'NM', 'TX']\n",
    "for dfStateYear in states:\n",
    "    example = plot_sources_pie(dfStateYear)"
   ]
  },
  {
   "cell_type": "code",
   "execution_count": null,
   "metadata": {
    "collapsed": false
   },
   "outputs": [],
   "source": []
  },
  {
   "cell_type": "code",
   "execution_count": null,
   "metadata": {
    "collapsed": false
   },
   "outputs": [],
   "source": []
  },
  {
   "cell_type": "code",
   "execution_count": null,
   "metadata": {
    "collapsed": false
   },
   "outputs": [],
   "source": []
  },
  {
   "cell_type": "code",
   "execution_count": null,
   "metadata": {
    "collapsed": false
   },
   "outputs": [],
   "source": []
  },
  {
   "cell_type": "code",
   "execution_count": 154,
   "metadata": {
    "collapsed": false
   },
   "outputs": [],
   "source": []
  },
  {
   "cell_type": "code",
   "execution_count": null,
   "metadata": {
    "collapsed": false
   },
   "outputs": [],
   "source": []
  },
  {
   "cell_type": "code",
   "execution_count": 174,
   "metadata": {
    "collapsed": false
   },
   "outputs": [],
   "source": []
  },
  {
   "cell_type": "code",
   "execution_count": null,
   "metadata": {
    "collapsed": true
   },
   "outputs": [],
   "source": []
  },
  {
   "cell_type": "code",
   "execution_count": 176,
   "metadata": {
    "collapsed": true
   },
   "outputs": [],
   "source": []
  },
  {
   "cell_type": "code",
   "execution_count": null,
   "metadata": {
    "collapsed": false
   },
   "outputs": [],
   "source": []
  },
  {
   "cell_type": "code",
   "execution_count": 178,
   "metadata": {
    "collapsed": false
   },
   "outputs": [],
   "source": []
  },
  {
   "cell_type": "code",
   "execution_count": null,
   "metadata": {
    "collapsed": false
   },
   "outputs": [],
   "source": [
    "s = fd.loc[:, 'Percenage of Total Energy Consumed']\n",
    "percentage_list = []\n",
    "for x in s:\n",
    "    percentage_list.extend(x*100)\n",
    "    \n",
    "t = fd.loc[:, 'Usage in BTUs']\n",
    "usage_list = []\n",
    "for y in t:\n",
    "    usage_list.extend(y"
   ]
  },
  {
   "cell_type": "code",
   "execution_count": 422,
   "metadata": {
    "collapsed": false
   },
   "outputs": [],
   "source": [
    "# make a dataframe for each state that holds the energy categories\n",
    "labels = ['Petroleum', 'Natural Gas', 'Coal and Wood', 'Wind', 'Solar', 'Hydroelectric', 'Geothermal', 'Biomass']\n",
    "data = [1, 4, 6, 3, 67, 7, 7, 7]\n",
    "df_mat_time = pd.DataFrame(data, labels)\n",
    "\n",
    "# How can we get all slices of data for a state, for a given year, grab each of the things that matchthe codes and put them ino a vector"
   ]
  },
  {
   "cell_type": "code",
   "execution_count": null,
   "metadata": {
    "collapsed": true
   },
   "outputs": [],
   "source": [
    "dfDF = data[data.loc[:, 'MSN']== 'DFTCB']\n",
    "#print(dfDF)\n",
    "natural_gas = dfPA.loc[:, 'Data'].values"
   ]
  },
  {
   "cell_type": "code",
   "execution_count": null,
   "metadata": {
    "collapsed": false
   },
   "outputs": [],
   "source": [
    "petro_inputs = data[data.loc[:, 'MSN']== 'PATCB'], data[data.loc[:, 'MSN']== 'NGTCB'], data[data.loc[:, 'MSN']== 'NGTCB'] + data[data.loc[:, 'MSN']== 'NGTCB']\n",
    "#petro = petro_inputs['Data']\n",
    "#print(petro['Data'])\n",
    "\n",
    "\n",
    "'''\n",
    "natural_gas = data[data.loc[:, 'MSN']== 'NGTCB']] \n",
    "coal_wood = data.loc[:, 'MSN']== 'CLTCB'] + data.loc[:, 'MSN']== 'WWTCB']\n",
    "nuclear = data.loc[:, 'MSN']== 'NUECB']\n",
    "wind = data.loc[:, 'MSN']== 'WYTCB']\n",
    "solar = data.loc[:, 'MSN']== 'SOTCB']\n",
    "hydroelectric = data.loc[:, 'MSN']== 'HYTCB']\n",
    "geothermal = data.loc[:, 'MSN']== 'GETCB']\n",
    "biomass = data.loc[:, 'MSN']== 'BMTCB']\n",
    "'''"
   ]
  },
  {
   "cell_type": "code",
   "execution_count": null,
   "metadata": {
    "collapsed": false
   },
   "outputs": [],
   "source": [
    "# Make df a dataframe that represents the summary data from excel in a way we can query nicely\n",
    "#df_CA = data[data['StateCode']== 'CA']\n",
    "#data[data['StateCode']== 'AZ']\n",
    "#df9[df9['StateCode']== 'CA']"
   ]
  },
  {
   "cell_type": "code",
   "execution_count": 322,
   "metadata": {
    "collapsed": true
   },
   "outputs": [],
   "source": [
    "#df9['MSN'].astype(str).str[0:3].head()"
   ]
  },
  {
   "cell_type": "code",
   "execution_count": 335,
   "metadata": {
    "collapsed": true
   },
   "outputs": [],
   "source": [
    "#groupedCA = df9_CA.groupby(df9_CA['MSN'].astype(str).str[0:3]).sum().drop(columns ='Year')\n",
    "#groupedAZ = df9_CA.groupby(df9_AZ['MSN'].astype(str).str[0:3]).sum().drop(columns ='Year')\n",
    "#groupedNM = df9_CA.groupby(df9_NM['MSN'].astype(str).str[0:3]).sum().drop(columns ='Year')\n",
    "#groupedTX = df9_CA.groupby(df9_TX['MSN'].astype(str).str[0:3]).sum().drop(columns ='Year')"
   ]
  },
  {
   "cell_type": "code",
   "execution_count": 337,
   "metadata": {
    "collapsed": false
   },
   "outputs": [
    {
     "data": {
      "text/plain": [
       "\"\\ndata_condensed = [data['PATCB'] + data['EMTCB'] + data['MGTCB'] + data['JFTCB'] + data['DFTCB'] + data['RFTCB'], \\n                  data['NGTCB'],\\n                  data['CLTCB']  + data['WWTCB'],\\n                  data['NUEGB'],\\n                  data['WYTCB'],\\n                  data['SOTCB'],\\n                  data['HYTCB'],\\n                  data['GETCB'],\\n                  data['BMTCB']]\\n\""
      ]
     },
     "execution_count": 337,
     "metadata": {},
     "output_type": "execute_result"
    }
   ],
   "source": [
    "'''\n",
    "data_condensed = [data['PATCB'] + data['EMTCB'] + data['MGTCB'] + data['JFTCB'] + data['DFTCB'] + data['RFTCB'], \n",
    "                  data['NGTCB'],\n",
    "                  data['CLTCB']  + data['WWTCB'],\n",
    "                  data['NUEGB'],\n",
    "                  data['WYTCB'],\n",
    "                  data['SOTCB'],\n",
    "                  data['HYTCB'],\n",
    "                  data['GETCB'],\n",
    "                  data['BMTCB']]\n",
    "'''"
   ]
  },
  {
   "cell_type": "code",
   "execution_count": 408,
   "metadata": {
    "collapsed": true
   },
   "outputs": [],
   "source": [
    "#df9_CA['MSN'].astype(str).str[0:3].head()\n",
    "#df9_CA = df9[df9['StateCode']== 'CA']\n",
    "#df9_AZ = df9[df9['StateCode']== 'AZ']\n",
    "#df9_NM = df9[df9['StateCode']== 'NM']\n",
    "#df9_TX = df9[df9['StateCode']== 'TX']\n",
    "#df9_CA.head(1)\n",
    "#df9_CA_new = df9_CA[['Data']].sum(axis=1).where(df['MSN'].astype(str).str[0:3], 0)"
   ]
  },
  {
   "cell_type": "code",
   "execution_count": null,
   "metadata": {
    "collapsed": false
   },
   "outputs": [],
   "source": []
  },
  {
   "cell_type": "code",
   "execution_count": 90,
   "metadata": {
    "collapsed": true
   },
   "outputs": [],
   "source": [
    "# For each state, the energy profile for the year 2009\n",
    "#make_profile_df(dfCA2009)\n",
    "#make_profile_df(dfNM2009)\n",
    "#make_profile_df(dfAZ2009)\n",
    "#make_profile_df(dfTX2009)"
   ]
  },
  {
   "cell_type": "code",
   "execution_count": null,
   "metadata": {
    "collapsed": true
   },
   "outputs": [],
   "source": []
  }
 ],
 "metadata": {
  "anaconda-cloud": {},
  "kernelspec": {
   "display_name": "Python [default]",
   "language": "python",
   "name": "python3"
  },
  "language_info": {
   "codemirror_mode": {
    "name": "ipython",
    "version": 3
   },
   "file_extension": ".py",
   "mimetype": "text/x-python",
   "name": "python",
   "nbconvert_exporter": "python",
   "pygments_lexer": "ipython3",
   "version": "3.5.2"
  }
 },
 "nbformat": 4,
 "nbformat_minor": 1
}
