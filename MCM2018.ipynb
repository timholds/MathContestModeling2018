{
 "cells": [
  {
   "cell_type": "code",
   "execution_count": 342,
   "metadata": {
    "collapsed": false
   },
   "outputs": [],
   "source": [
    "import pandas as pd\n",
    "import numpy as np\n",
    "import matplotlib.pyplot as plt"
   ]
  },
  {
   "cell_type": "code",
   "execution_count": 412,
   "metadata": {
    "collapsed": false
   },
   "outputs": [
    {
     "name": "stdout",
     "output_type": "stream",
     "text": [
      "        MSN StateCode  Year    Data\n",
      "4720  BMTCB        AZ  1960 4,012.9\n",
      "4721  BMTCB        AZ  1961 3,837.0\n",
      "4722  BMTCB        AZ  1962 3,672.1\n",
      "4723  BMTCB        AZ  1963 4,027.5\n",
      "4724  BMTCB        AZ  1964 4,089.1\n"
     ]
    }
   ],
   "source": [
    "df = pd.read_csv('ProblemCData.csv')\n",
    "material_codes = ['FFTCB', 'PATCB', 'EMTCB', 'MGTCB', 'JFTCB', 'NGTCB','CLTCB','WWTCB', 'DFTCB', 'RFTCB',\n",
    "'NUEGB','RETCB','HYTCB','GETCB','SOTCB','WYTCB', 'BMTCB'] # list of material codes from excel[]\n",
    "\n",
    "# Data should be a list with len(material_codes (~20)) that is a list of values\n",
    "data = df.loc[df['MSN'].isin(material_codes)]\n",
    "print(data.head())"
   ]
  },
  {
   "cell_type": "code",
   "execution_count": 413,
   "metadata": {
    "collapsed": true
   },
   "outputs": [],
   "source": [
    "def get_materials_numbers(data):\n",
    "    dfPA = data[data.loc[:, 'MSN']== 'PATCB']\n",
    "    dfEM = data[data.loc[:, 'MSN']== 'EMTCB']\n",
    "    dfJF = data[data.loc[:, 'MSN']== 'JFTCB']\n",
    "    dfMG = data[data.loc[:, 'MSN']== 'MGTCB']\n",
    "    dfRF = data[data.loc[:, 'MSN']== 'RFTCB']\n",
    "    dfDF = data[data.loc[:, 'MSN']== 'DFTCB']\n",
    "    petro = dfPA.loc[:, 'Data'].values + dfEM.loc[:, 'Data'].values + dfJF.loc[:, 'Data'].values + dfMG.loc[:, 'Data'].values + dfRF.loc[:, 'Data'].values + dfDF.loc[:, 'Data'].values\n",
    "\n",
    "    dfNG = data[data.loc[:, 'MSN']== 'NGTCB']\n",
    "    natural_gas = dfNG.loc[:, 'Data'].values\n",
    "    \n",
    "    dfCoal = data[data.loc[:, 'MSN']== 'CLTCB']\n",
    "    dfWood = data[data.loc[:, 'MSN']== 'WWTCB'] \n",
    "    coal_wood = dfCoal.loc[:, 'Data'].values + dfWood.loc[:, 'Data'].values \n",
    "    \n",
    "    dfNuc = data[data.loc[:, 'MSN']== 'NUEGB'] \n",
    "    nuclear = dfNuc.loc[:, 'Data'].values\n",
    "    \n",
    "    dfWind = data[data.loc[:, 'MSN']== 'WYTCB'] \n",
    "    wind = dfWind.loc[:, 'Data'].values\n",
    "    \n",
    "    dfSol = data[data.loc[:, 'MSN']== 'SOTCB'] \n",
    "    solar = dfSol.loc[:, 'Data'].values\n",
    "    \n",
    "    dfHydro = data[data.loc[:, 'MSN']== 'HYTCB'] \n",
    "    hydro = dfHydro.loc[:, 'Data'].values\n",
    "    \n",
    "    dfGeo = data[data.loc[:, 'MSN']== 'GETCB'] \n",
    "    geo = dfGeo.loc[:, 'Data'].values\n",
    "    \n",
    "    dfBio = data[data.loc[:, 'MSN']== 'BMTCB'] \n",
    "    bio = dfBio.loc[:, 'Data'].values\n",
    "    \n",
    "    total = petro + natural_gas + coal_wood + nuclear + wind + solar + hydro + geo + bio\n",
    "    \n",
    "    data_values = [petro, natural_gas, coal_wood, nuclear, wind, solar, hydro, geo, bio, total]\n",
    "    #data = []\n",
    "    #data.extend(data_values)\n",
    "    return data_values\n",
    "    \n",
    "#get_materials_numbers(data)"
   ]
  },
  {
   "cell_type": "code",
   "execution_count": 414,
   "metadata": {
    "collapsed": false
   },
   "outputs": [],
   "source": [
    "def state_df(df, state):\n",
    "    state_df = df[df['StateCode']== state]\n",
    "    return state_df\n",
    "\n",
    "def year_df(df, year):\n",
    "    year_df = df[df['Year']== year]\n",
    "    return year_df\n"
   ]
  },
  {
   "cell_type": "code",
   "execution_count": 415,
   "metadata": {
    "collapsed": false
   },
   "outputs": [],
   "source": [
    "# Get the values for 2009 for all the codes for all the states\n",
    "df9 = year_df(df, 2009)\n",
    "df9.head(2)\n",
    "\n",
    "dfCA = state_df(df, 'CA')\n",
    "dfCA2009 = year_df(dfCA, 2009)\n",
    "\n",
    "dfAZ = state_df(df, 'AZ')\n",
    "dfAZ2009 = year_df(dfAZ, 2009)\n",
    "\n",
    "dfNM = state_df(df, 'NM')\n",
    "dfNM2009 = year_df(dfNM, 2009)\n",
    "\n",
    "dfTX = state_df(df, 'TX')\n",
    "dfTX2009 = year_df(dfTX, 2009)"
   ]
  },
  {
   "cell_type": "code",
   "execution_count": 441,
   "metadata": {
    "collapsed": false,
    "scrolled": true
   },
   "outputs": [
    {
     "data": {
      "text/html": [
       "<div>\n",
       "<style scoped>\n",
       "    .dataframe tbody tr th:only-of-type {\n",
       "        vertical-align: middle;\n",
       "    }\n",
       "\n",
       "    .dataframe tbody tr th {\n",
       "        vertical-align: top;\n",
       "    }\n",
       "\n",
       "    .dataframe thead th {\n",
       "        text-align: right;\n",
       "    }\n",
       "</style>\n",
       "<table border=\"1\" class=\"dataframe\">\n",
       "  <thead>\n",
       "    <tr style=\"text-align: right;\">\n",
       "      <th></th>\n",
       "      <th>Percenage of Total Energy Consumed</th>\n",
       "      <th>Usage in BTUs</th>\n",
       "    </tr>\n",
       "  </thead>\n",
       "  <tbody>\n",
       "    <tr>\n",
       "      <th>Petroleum and Oil</th>\n",
       "      <td>[0.4651750872]</td>\n",
       "      <td>[1067224.64162]</td>\n",
       "    </tr>\n",
       "    <tr>\n",
       "      <th>Natural Gas</th>\n",
       "      <td>[0.164182611399]</td>\n",
       "      <td>[376674.7907]</td>\n",
       "    </tr>\n",
       "    <tr>\n",
       "      <th>Coal and Wood</th>\n",
       "      <td>[0.185737622555]</td>\n",
       "      <td>[426127.22203]</td>\n",
       "    </tr>\n",
       "    <tr>\n",
       "      <th>Nuclear</th>\n",
       "      <td>[0.139794684047]</td>\n",
       "      <td>[320722.9615]</td>\n",
       "    </tr>\n",
       "    <tr>\n",
       "      <th>Wind</th>\n",
       "      <td>[0.00012568817358]</td>\n",
       "      <td>[288.3592]</td>\n",
       "    </tr>\n",
       "    <tr>\n",
       "      <th>Solar</th>\n",
       "      <td>[0.00206260951164]</td>\n",
       "      <td>[4732.12723]</td>\n",
       "    </tr>\n",
       "    <tr>\n",
       "      <th>Hydroelectric</th>\n",
       "      <td>[0.0273427400244]</td>\n",
       "      <td>[62730.8872]</td>\n",
       "    </tr>\n",
       "    <tr>\n",
       "      <th>Geothermal</th>\n",
       "      <td>[0.000143445412789]</td>\n",
       "      <td>[329.09862]</td>\n",
       "    </tr>\n",
       "    <tr>\n",
       "      <th>Biomass</th>\n",
       "      <td>[0.0154355116765]</td>\n",
       "      <td>[35412.81309]</td>\n",
       "    </tr>\n",
       "    <tr>\n",
       "      <th>total</th>\n",
       "      <td>[1.0]</td>\n",
       "      <td>[2294242.90119]</td>\n",
       "    </tr>\n",
       "  </tbody>\n",
       "</table>\n",
       "</div>"
      ],
      "text/plain": [
       "                  Percenage of Total Energy Consumed    Usage in BTUs\n",
       "Petroleum and Oil                     [0.4651750872]  [1067224.64162]\n",
       "Natural Gas                         [0.164182611399]    [376674.7907]\n",
       "Coal and Wood                       [0.185737622555]   [426127.22203]\n",
       "Nuclear                             [0.139794684047]    [320722.9615]\n",
       "Wind                              [0.00012568817358]       [288.3592]\n",
       "Solar                             [0.00206260951164]     [4732.12723]\n",
       "Hydroelectric                      [0.0273427400244]     [62730.8872]\n",
       "Geothermal                       [0.000143445412789]      [329.09862]\n",
       "Biomass                            [0.0154355116765]    [35412.81309]\n",
       "total                                          [1.0]  [2294242.90119]"
      ]
     },
     "execution_count": 441,
     "metadata": {},
     "output_type": "execute_result"
    }
   ],
   "source": [
    "import itertools\n",
    "def make_df(df):\n",
    "    data_abs = get_materials_numbers(df)\n",
    "    total = sum(data_abs)\n",
    "    \n",
    "    data_rel = []\n",
    "    for i in range(len(data_abs)):\n",
    "        data_rel.append((data_abs[i] / total) *2)\n",
    "    materials = ['Petroleum and Oil', 'Natural Gas', 'Coal and Wood', 'Nuclear', 'Wind', 'Solar', 'Hydroelectric', 'Geothermal', 'Biomass', 'total']\n",
    "    inputs = {'Usage in BTUs': data_abs, 'Percenage of Total Energy Consumed': data_rel}\n",
    "    data = pd.DataFrame(inputs, index=materials)\n",
    "    return data\n",
    "    \n",
    "fd = make_df(dfAZ2009)\n",
    "fd"
   ]
  },
  {
   "cell_type": "code",
   "execution_count": 456,
   "metadata": {
    "collapsed": false
   },
   "outputs": [],
   "source": [
    "s = fd.loc[:, 'Percenage of Total Energy Consumed']\n",
    "percentage_list = []\n",
    "for x in s:\n",
    "    percentage_list.extend(x*100)\n",
    "    \n",
    "t = fd.loc[:, 'Usage in BTUs']\n",
    "usage_list = []\n",
    "for y in t:\n",
    "    usage_list.extend(y)"
   ]
  },
  {
   "cell_type": "code",
   "execution_count": 470,
   "metadata": {
    "collapsed": false
   },
   "outputs": [],
   "source": [
    "def make_df(df):\n",
    "    pd.options.display.float_format = '{:,.2f}'.format\n",
    "    data_abs = get_materials_numbers(df)\n",
    "    data_rel = []\n",
    "    # The total is stored as the last item in the data_abs list\n",
    "    total = data_abs[-1:]\n",
    "    for item in data_abs:\n",
    "        data_rel.append((item / total)* 1000)\n",
    "    \n",
    "    materials = ['Petroleum and Oil', 'Natural Gas', 'Coal and Wood', 'Nuclear', 'Wind', 'Solar', 'Hydroelectric', 'Geothermal', 'Biomass', 'Total']\n",
    "    inputs = {'Usage in BTUs': usage_list, 'Percenage of Total Energy Consumed': percentage_list}\n",
    "    data = pd.DataFrame(inputs, index=materials).sort_values(by=['Percenage of Total Energy Consumed'], ascending=False)\n",
    "    return data\n"
   ]
  },
  {
   "cell_type": "code",
   "execution_count": 471,
   "metadata": {
    "collapsed": false
   },
   "outputs": [
    {
     "data": {
      "text/html": [
       "<div>\n",
       "<style scoped>\n",
       "    .dataframe tbody tr th:only-of-type {\n",
       "        vertical-align: middle;\n",
       "    }\n",
       "\n",
       "    .dataframe tbody tr th {\n",
       "        vertical-align: top;\n",
       "    }\n",
       "\n",
       "    .dataframe thead th {\n",
       "        text-align: right;\n",
       "    }\n",
       "</style>\n",
       "<table border=\"1\" class=\"dataframe\">\n",
       "  <thead>\n",
       "    <tr style=\"text-align: right;\">\n",
       "      <th></th>\n",
       "      <th>Percenage of Total Energy Consumed</th>\n",
       "      <th>Usage in BTUs</th>\n",
       "    </tr>\n",
       "  </thead>\n",
       "  <tbody>\n",
       "    <tr>\n",
       "      <th>Total</th>\n",
       "      <td>100.00</td>\n",
       "      <td>2,294,242.90</td>\n",
       "    </tr>\n",
       "    <tr>\n",
       "      <th>Petroleum and Oil</th>\n",
       "      <td>46.52</td>\n",
       "      <td>1,067,224.64</td>\n",
       "    </tr>\n",
       "    <tr>\n",
       "      <th>Coal and Wood</th>\n",
       "      <td>18.57</td>\n",
       "      <td>426,127.22</td>\n",
       "    </tr>\n",
       "    <tr>\n",
       "      <th>Natural Gas</th>\n",
       "      <td>16.42</td>\n",
       "      <td>376,674.79</td>\n",
       "    </tr>\n",
       "    <tr>\n",
       "      <th>Nuclear</th>\n",
       "      <td>13.98</td>\n",
       "      <td>320,722.96</td>\n",
       "    </tr>\n",
       "    <tr>\n",
       "      <th>Hydroelectric</th>\n",
       "      <td>2.73</td>\n",
       "      <td>62,730.89</td>\n",
       "    </tr>\n",
       "    <tr>\n",
       "      <th>Biomass</th>\n",
       "      <td>1.54</td>\n",
       "      <td>35,412.81</td>\n",
       "    </tr>\n",
       "    <tr>\n",
       "      <th>Solar</th>\n",
       "      <td>0.21</td>\n",
       "      <td>4,732.13</td>\n",
       "    </tr>\n",
       "    <tr>\n",
       "      <th>Geothermal</th>\n",
       "      <td>0.01</td>\n",
       "      <td>329.10</td>\n",
       "    </tr>\n",
       "    <tr>\n",
       "      <th>Wind</th>\n",
       "      <td>0.01</td>\n",
       "      <td>288.36</td>\n",
       "    </tr>\n",
       "  </tbody>\n",
       "</table>\n",
       "</div>"
      ],
      "text/plain": [
       "                   Percenage of Total Energy Consumed  Usage in BTUs\n",
       "Total                                          100.00   2,294,242.90\n",
       "Petroleum and Oil                               46.52   1,067,224.64\n",
       "Coal and Wood                                   18.57     426,127.22\n",
       "Natural Gas                                     16.42     376,674.79\n",
       "Nuclear                                         13.98     320,722.96\n",
       "Hydroelectric                                    2.73      62,730.89\n",
       "Biomass                                          1.54      35,412.81\n",
       "Solar                                            0.21       4,732.13\n",
       "Geothermal                                       0.01         329.10\n",
       "Wind                                             0.01         288.36"
      ]
     },
     "execution_count": 471,
     "metadata": {},
     "output_type": "execute_result"
    }
   ],
   "source": [
    "# For each state, the energy profile for the year 2009\n",
    "make_df(dfTX2009)\n",
    "make_df(dfCA2009)\n",
    "make_df(dfNM2009)\n",
    "make_df(dfAZ2009)"
   ]
  },
  {
   "cell_type": "code",
   "execution_count": 420,
   "metadata": {
    "collapsed": false
   },
   "outputs": [],
   "source": [
    "# Plot relative sources of energy used in a given state for a given year\n",
    "\n",
    "def plot_sources_pie(df):\n",
    "    materials = ['Petroleum', 'Natural Gas', 'Coal and Wood', 'Wind', 'Solar', 'Hydroelectric', 'Geothermal', 'Biomass']\n",
    "    colors = ['green', 'green', 'green', 'red', 'red', 'red', 'red', 'red']\n",
    "    total_size = 10\n",
    "    scaling = 100\n",
    "    \n",
    "    \n",
    "    # TODO switch out the sizes and use the one representing the actual data\n",
    "    \n",
    "\n",
    "    # Get the total energy usage by adding up the energy used \n",
    "    #total_energy += df.loc[i for i in materials]\n",
    "    # Proportion is an 8 item list (same as materials) \n",
    "    #proportion = df.loc[i for i in materials] / total_energy\n",
    "    \n",
    "    #sizes = proportion * scaling\n",
    "    sizes = [215, 130, 245, 210, 215, 130, 245, 210]\n",
    "    explode = (0.1, 0.1, 0.1, 0.1, 0.1, 0.1, 0.1, 0.1)  # explode 1st slice\n",
    "\n",
    "    plt.pie(sizes, explode=explode, labels=labels, colors=colors,\n",
    "            autopct='%1.1f%%', shadow=True, startangle=140)\n",
    "    plt.axis('equal')\n",
    "    plt.show()\n",
    "    \n",
    "#plot_sources_pie(df)"
   ]
  },
  {
   "cell_type": "code",
   "execution_count": 421,
   "metadata": {
    "collapsed": false
   },
   "outputs": [
    {
     "name": "stdout",
     "output_type": "stream",
     "text": [
      "Length of year list is 40\n"
     ]
    },
    {
     "ename": "KeyError",
     "evalue": "'the label [Fossiel Fuel] is not in the [index]'",
     "output_type": "error",
     "traceback": [
      "\u001b[0;31m---------------------------------------------------------------------------\u001b[0m",
      "\u001b[0;31mKeyError\u001b[0m                                  Traceback (most recent call last)",
      "\u001b[0;32m//anaconda/lib/python3.5/site-packages/pandas/core/indexing.py\u001b[0m in \u001b[0;36m_has_valid_type\u001b[0;34m(self, key, axis)\u001b[0m\n\u001b[1;32m   1505\u001b[0m                 \u001b[0;32mif\u001b[0m \u001b[0;32mnot\u001b[0m \u001b[0max\u001b[0m\u001b[0;34m.\u001b[0m\u001b[0mcontains\u001b[0m\u001b[0;34m(\u001b[0m\u001b[0mkey\u001b[0m\u001b[0;34m)\u001b[0m\u001b[0;34m:\u001b[0m\u001b[0;34m\u001b[0m\u001b[0m\n\u001b[0;32m-> 1506\u001b[0;31m                     \u001b[0merror\u001b[0m\u001b[0;34m(\u001b[0m\u001b[0;34m)\u001b[0m\u001b[0;34m\u001b[0m\u001b[0m\n\u001b[0m\u001b[1;32m   1507\u001b[0m             \u001b[0;32mexcept\u001b[0m \u001b[0mTypeError\u001b[0m \u001b[0;32mas\u001b[0m \u001b[0me\u001b[0m\u001b[0;34m:\u001b[0m\u001b[0;34m\u001b[0m\u001b[0m\n",
      "\u001b[0;32m//anaconda/lib/python3.5/site-packages/pandas/core/indexing.py\u001b[0m in \u001b[0;36merror\u001b[0;34m()\u001b[0m\n\u001b[1;32m   1500\u001b[0m                                .format(key=key,\n\u001b[0;32m-> 1501\u001b[0;31m                                        axis=self.obj._get_axis_name(axis)))\n\u001b[0m\u001b[1;32m   1502\u001b[0m \u001b[0;34m\u001b[0m\u001b[0m\n",
      "\u001b[0;31mKeyError\u001b[0m: 'the label [Fossiel Fuel] is not in the [index]'",
      "\nDuring handling of the above exception, another exception occurred:\n",
      "\u001b[0;31mKeyError\u001b[0m                                  Traceback (most recent call last)",
      "\u001b[0;32m<ipython-input-421-bfa7843dcca9>\u001b[0m in \u001b[0;36m<module>\u001b[0;34m()\u001b[0m\n\u001b[1;32m     18\u001b[0m     \u001b[0mplt\u001b[0m\u001b[0;34m.\u001b[0m\u001b[0mshow\u001b[0m\u001b[0;34m(\u001b[0m\u001b[0;34m)\u001b[0m\u001b[0;34m\u001b[0m\u001b[0m\n\u001b[1;32m     19\u001b[0m \u001b[0;34m\u001b[0m\u001b[0m\n\u001b[0;32m---> 20\u001b[0;31m \u001b[0mplot_state_sources_over_time\u001b[0m\u001b[0;34m(\u001b[0m\u001b[0mdf\u001b[0m\u001b[0;34m)\u001b[0m\u001b[0;34m\u001b[0m\u001b[0m\n\u001b[0m",
      "\u001b[0;32m<ipython-input-421-bfa7843dcca9>\u001b[0m in \u001b[0;36mplot_state_sources_over_time\u001b[0;34m(df)\u001b[0m\n\u001b[1;32m      4\u001b[0m     \u001b[0mprint\u001b[0m\u001b[0;34m(\u001b[0m\u001b[0;34m'Length of year list is {}'\u001b[0m\u001b[0;34m.\u001b[0m\u001b[0mformat\u001b[0m\u001b[0;34m(\u001b[0m\u001b[0mlen\u001b[0m\u001b[0;34m(\u001b[0m\u001b[0myear\u001b[0m\u001b[0;34m)\u001b[0m\u001b[0;34m)\u001b[0m\u001b[0;34m)\u001b[0m\u001b[0;34m\u001b[0m\u001b[0m\n\u001b[1;32m      5\u001b[0m \u001b[0;34m\u001b[0m\u001b[0m\n\u001b[0;32m----> 6\u001b[0;31m     \u001b[0mff_total_use\u001b[0m \u001b[0;34m=\u001b[0m \u001b[0mdf\u001b[0m\u001b[0;34m.\u001b[0m\u001b[0mloc\u001b[0m\u001b[0;34m[\u001b[0m\u001b[0;34m'Fossiel Fuel'\u001b[0m\u001b[0;34m]\u001b[0m\u001b[0;34m\u001b[0m\u001b[0m\n\u001b[0m\u001b[1;32m      7\u001b[0m     \u001b[0mrn_total_use\u001b[0m \u001b[0;34m=\u001b[0m \u001b[0mdf\u001b[0m\u001b[0;34m.\u001b[0m\u001b[0mloc\u001b[0m\u001b[0;34m[\u001b[0m\u001b[0;34m'Renewable'\u001b[0m\u001b[0;34m]\u001b[0m\u001b[0;34m\u001b[0m\u001b[0m\n\u001b[1;32m      8\u001b[0m     \u001b[0mtotal_usage\u001b[0m \u001b[0;34m=\u001b[0m \u001b[0mff_total_use\u001b[0m \u001b[0;34m+\u001b[0m \u001b[0mrn_total_use\u001b[0m\u001b[0;34m\u001b[0m\u001b[0m\n",
      "\u001b[0;32m//anaconda/lib/python3.5/site-packages/pandas/core/indexing.py\u001b[0m in \u001b[0;36m__getitem__\u001b[0;34m(self, key)\u001b[0m\n\u001b[1;32m   1371\u001b[0m \u001b[0;34m\u001b[0m\u001b[0m\n\u001b[1;32m   1372\u001b[0m             \u001b[0mmaybe_callable\u001b[0m \u001b[0;34m=\u001b[0m \u001b[0mcom\u001b[0m\u001b[0;34m.\u001b[0m\u001b[0m_apply_if_callable\u001b[0m\u001b[0;34m(\u001b[0m\u001b[0mkey\u001b[0m\u001b[0;34m,\u001b[0m \u001b[0mself\u001b[0m\u001b[0;34m.\u001b[0m\u001b[0mobj\u001b[0m\u001b[0;34m)\u001b[0m\u001b[0;34m\u001b[0m\u001b[0m\n\u001b[0;32m-> 1373\u001b[0;31m             \u001b[0;32mreturn\u001b[0m \u001b[0mself\u001b[0m\u001b[0;34m.\u001b[0m\u001b[0m_getitem_axis\u001b[0m\u001b[0;34m(\u001b[0m\u001b[0mmaybe_callable\u001b[0m\u001b[0;34m,\u001b[0m \u001b[0maxis\u001b[0m\u001b[0;34m=\u001b[0m\u001b[0maxis\u001b[0m\u001b[0;34m)\u001b[0m\u001b[0;34m\u001b[0m\u001b[0m\n\u001b[0m\u001b[1;32m   1374\u001b[0m \u001b[0;34m\u001b[0m\u001b[0m\n\u001b[1;32m   1375\u001b[0m     \u001b[0;32mdef\u001b[0m \u001b[0m_is_scalar_access\u001b[0m\u001b[0;34m(\u001b[0m\u001b[0mself\u001b[0m\u001b[0;34m,\u001b[0m \u001b[0mkey\u001b[0m\u001b[0;34m)\u001b[0m\u001b[0;34m:\u001b[0m\u001b[0;34m\u001b[0m\u001b[0m\n",
      "\u001b[0;32m//anaconda/lib/python3.5/site-packages/pandas/core/indexing.py\u001b[0m in \u001b[0;36m_getitem_axis\u001b[0;34m(self, key, axis)\u001b[0m\n\u001b[1;32m   1624\u001b[0m \u001b[0;34m\u001b[0m\u001b[0m\n\u001b[1;32m   1625\u001b[0m         \u001b[0;31m# fall thru to straight lookup\u001b[0m\u001b[0;34m\u001b[0m\u001b[0;34m\u001b[0m\u001b[0m\n\u001b[0;32m-> 1626\u001b[0;31m         \u001b[0mself\u001b[0m\u001b[0;34m.\u001b[0m\u001b[0m_has_valid_type\u001b[0m\u001b[0;34m(\u001b[0m\u001b[0mkey\u001b[0m\u001b[0;34m,\u001b[0m \u001b[0maxis\u001b[0m\u001b[0;34m)\u001b[0m\u001b[0;34m\u001b[0m\u001b[0m\n\u001b[0m\u001b[1;32m   1627\u001b[0m         \u001b[0;32mreturn\u001b[0m \u001b[0mself\u001b[0m\u001b[0;34m.\u001b[0m\u001b[0m_get_label\u001b[0m\u001b[0;34m(\u001b[0m\u001b[0mkey\u001b[0m\u001b[0;34m,\u001b[0m \u001b[0maxis\u001b[0m\u001b[0;34m=\u001b[0m\u001b[0maxis\u001b[0m\u001b[0;34m)\u001b[0m\u001b[0;34m\u001b[0m\u001b[0m\n\u001b[1;32m   1628\u001b[0m \u001b[0;34m\u001b[0m\u001b[0m\n",
      "\u001b[0;32m//anaconda/lib/python3.5/site-packages/pandas/core/indexing.py\u001b[0m in \u001b[0;36m_has_valid_type\u001b[0;34m(self, key, axis)\u001b[0m\n\u001b[1;32m   1512\u001b[0m                 \u001b[0;32mraise\u001b[0m\u001b[0;34m\u001b[0m\u001b[0m\n\u001b[1;32m   1513\u001b[0m             \u001b[0;32mexcept\u001b[0m\u001b[0;34m:\u001b[0m\u001b[0;34m\u001b[0m\u001b[0m\n\u001b[0;32m-> 1514\u001b[0;31m                 \u001b[0merror\u001b[0m\u001b[0;34m(\u001b[0m\u001b[0;34m)\u001b[0m\u001b[0;34m\u001b[0m\u001b[0m\n\u001b[0m\u001b[1;32m   1515\u001b[0m \u001b[0;34m\u001b[0m\u001b[0m\n\u001b[1;32m   1516\u001b[0m         \u001b[0;32mreturn\u001b[0m \u001b[0;32mTrue\u001b[0m\u001b[0;34m\u001b[0m\u001b[0m\n",
      "\u001b[0;32m//anaconda/lib/python3.5/site-packages/pandas/core/indexing.py\u001b[0m in \u001b[0;36merror\u001b[0;34m()\u001b[0m\n\u001b[1;32m   1499\u001b[0m                 raise KeyError(u\"the label [{key}] is not in the [{axis}]\"\n\u001b[1;32m   1500\u001b[0m                                .format(key=key,\n\u001b[0;32m-> 1501\u001b[0;31m                                        axis=self.obj._get_axis_name(axis)))\n\u001b[0m\u001b[1;32m   1502\u001b[0m \u001b[0;34m\u001b[0m\u001b[0m\n\u001b[1;32m   1503\u001b[0m             \u001b[0;32mtry\u001b[0m\u001b[0;34m:\u001b[0m\u001b[0;34m\u001b[0m\u001b[0m\n",
      "\u001b[0;31mKeyError\u001b[0m: 'the label [Fossiel Fuel] is not in the [index]'"
     ]
    }
   ],
   "source": [
    "def plot_state_sources_over_time(df):\n",
    "    ''' Make a line chart showing a states relative use of renewable and non renewable energy'''\n",
    "    year = range(1969, 2009) \n",
    "    print('Length of year list is {}'.format(len(year)))\n",
    "    \n",
    "    ff_total_use = df.loc['Fossiel Fuel']\n",
    "    rn_total_use = df.loc['Renewable']\n",
    "    total_usage = ff_total_use + rn_total_use\n",
    "    \n",
    "    ff_rel_use = [i / total_usage for i in df.loc['Fossil Fuel']]\n",
    "    rn_rel_use = [i / total_usage for i in df.loc['Renewable']]\n",
    "    \n",
    "    plt.plot(year, ff_rel_use, color='red')\n",
    "    plt.plot(year, rn_rel_use, color='green')\n",
    "    plt.xlabel('Time')\n",
    "    plt.ylabel('Percentage of Total Energy')\n",
    "    plt.title('{State} use of energy over time')\n",
    "    plt.show()\n",
    "\n",
    "plot_state_sources_over_time(df)"
   ]
  },
  {
   "cell_type": "code",
   "execution_count": null,
   "metadata": {
    "collapsed": false
   },
   "outputs": [],
   "source": []
  },
  {
   "cell_type": "code",
   "execution_count": null,
   "metadata": {
    "collapsed": false
   },
   "outputs": [],
   "source": []
  },
  {
   "cell_type": "code",
   "execution_count": null,
   "metadata": {
    "collapsed": false
   },
   "outputs": [],
   "source": []
  },
  {
   "cell_type": "code",
   "execution_count": null,
   "metadata": {
    "collapsed": false
   },
   "outputs": [],
   "source": []
  },
  {
   "cell_type": "code",
   "execution_count": null,
   "metadata": {
    "collapsed": false
   },
   "outputs": [],
   "source": []
  },
  {
   "cell_type": "code",
   "execution_count": 154,
   "metadata": {
    "collapsed": false
   },
   "outputs": [],
   "source": []
  },
  {
   "cell_type": "code",
   "execution_count": null,
   "metadata": {
    "collapsed": false
   },
   "outputs": [],
   "source": []
  },
  {
   "cell_type": "code",
   "execution_count": 174,
   "metadata": {
    "collapsed": false
   },
   "outputs": [],
   "source": []
  },
  {
   "cell_type": "code",
   "execution_count": null,
   "metadata": {
    "collapsed": true
   },
   "outputs": [],
   "source": []
  },
  {
   "cell_type": "code",
   "execution_count": 176,
   "metadata": {
    "collapsed": true
   },
   "outputs": [],
   "source": []
  },
  {
   "cell_type": "code",
   "execution_count": null,
   "metadata": {
    "collapsed": false
   },
   "outputs": [],
   "source": []
  },
  {
   "cell_type": "code",
   "execution_count": 178,
   "metadata": {
    "collapsed": false
   },
   "outputs": [],
   "source": []
  },
  {
   "cell_type": "code",
   "execution_count": null,
   "metadata": {
    "collapsed": false
   },
   "outputs": [],
   "source": []
  },
  {
   "cell_type": "code",
   "execution_count": 422,
   "metadata": {
    "collapsed": false
   },
   "outputs": [],
   "source": [
    "# make a dataframe for each state that holds the energy categories\n",
    "labels = ['Petroleum', 'Natural Gas', 'Coal and Wood', 'Wind', 'Solar', 'Hydroelectric', 'Geothermal', 'Biomass']\n",
    "data = [1, 4, 6, 3, 67, 7, 7, 7]\n",
    "df_mat_time = pd.DataFrame(data, labels)\n",
    "\n",
    "# How can we get all slices of data for a state, for a given year, grab each of the things that matchthe codes and put them ino a vector"
   ]
  },
  {
   "cell_type": "code",
   "execution_count": null,
   "metadata": {
    "collapsed": true
   },
   "outputs": [],
   "source": [
    "dfDF = data[data.loc[:, 'MSN']== 'DFTCB']\n",
    "#print(dfDF)\n",
    "natural_gas = dfPA.loc[:, 'Data'].values"
   ]
  },
  {
   "cell_type": "code",
   "execution_count": null,
   "metadata": {
    "collapsed": false
   },
   "outputs": [],
   "source": [
    "petro_inputs = data[data.loc[:, 'MSN']== 'PATCB'], data[data.loc[:, 'MSN']== 'NGTCB'], data[data.loc[:, 'MSN']== 'NGTCB'] + data[data.loc[:, 'MSN']== 'NGTCB']\n",
    "#petro = petro_inputs['Data']\n",
    "#print(petro['Data'])\n",
    "\n",
    "\n",
    "'''\n",
    "natural_gas = data[data.loc[:, 'MSN']== 'NGTCB']] \n",
    "coal_wood = data.loc[:, 'MSN']== 'CLTCB'] + data.loc[:, 'MSN']== 'WWTCB']\n",
    "nuclear = data.loc[:, 'MSN']== 'NUECB']\n",
    "wind = data.loc[:, 'MSN']== 'WYTCB']\n",
    "solar = data.loc[:, 'MSN']== 'SOTCB']\n",
    "hydroelectric = data.loc[:, 'MSN']== 'HYTCB']\n",
    "geothermal = data.loc[:, 'MSN']== 'GETCB']\n",
    "biomass = data.loc[:, 'MSN']== 'BMTCB']\n",
    "'''"
   ]
  },
  {
   "cell_type": "code",
   "execution_count": null,
   "metadata": {
    "collapsed": false
   },
   "outputs": [],
   "source": [
    "# Make df a dataframe that represents the summary data from excel in a way we can query nicely\n",
    "#df_CA = data[data['StateCode']== 'CA']\n",
    "#data[data['StateCode']== 'AZ']\n",
    "#df9[df9['StateCode']== 'CA']"
   ]
  },
  {
   "cell_type": "code",
   "execution_count": 322,
   "metadata": {
    "collapsed": true
   },
   "outputs": [],
   "source": [
    "#df9['MSN'].astype(str).str[0:3].head()"
   ]
  },
  {
   "cell_type": "code",
   "execution_count": 335,
   "metadata": {
    "collapsed": true
   },
   "outputs": [],
   "source": [
    "#groupedCA = df9_CA.groupby(df9_CA['MSN'].astype(str).str[0:3]).sum().drop(columns ='Year')\n",
    "#groupedAZ = df9_CA.groupby(df9_AZ['MSN'].astype(str).str[0:3]).sum().drop(columns ='Year')\n",
    "#groupedNM = df9_CA.groupby(df9_NM['MSN'].astype(str).str[0:3]).sum().drop(columns ='Year')\n",
    "#groupedTX = df9_CA.groupby(df9_TX['MSN'].astype(str).str[0:3]).sum().drop(columns ='Year')"
   ]
  },
  {
   "cell_type": "code",
   "execution_count": 337,
   "metadata": {
    "collapsed": false
   },
   "outputs": [
    {
     "data": {
      "text/plain": [
       "\"\\ndata_condensed = [data['PATCB'] + data['EMTCB'] + data['MGTCB'] + data['JFTCB'] + data['DFTCB'] + data['RFTCB'], \\n                  data['NGTCB'],\\n                  data['CLTCB']  + data['WWTCB'],\\n                  data['NUEGB'],\\n                  data['WYTCB'],\\n                  data['SOTCB'],\\n                  data['HYTCB'],\\n                  data['GETCB'],\\n                  data['BMTCB']]\\n\""
      ]
     },
     "execution_count": 337,
     "metadata": {},
     "output_type": "execute_result"
    }
   ],
   "source": [
    "'''\n",
    "data_condensed = [data['PATCB'] + data['EMTCB'] + data['MGTCB'] + data['JFTCB'] + data['DFTCB'] + data['RFTCB'], \n",
    "                  data['NGTCB'],\n",
    "                  data['CLTCB']  + data['WWTCB'],\n",
    "                  data['NUEGB'],\n",
    "                  data['WYTCB'],\n",
    "                  data['SOTCB'],\n",
    "                  data['HYTCB'],\n",
    "                  data['GETCB'],\n",
    "                  data['BMTCB']]\n",
    "'''"
   ]
  },
  {
   "cell_type": "code",
   "execution_count": 408,
   "metadata": {
    "collapsed": true
   },
   "outputs": [],
   "source": [
    "#df9_CA['MSN'].astype(str).str[0:3].head()\n",
    "#df9_CA = df9[df9['StateCode']== 'CA']\n",
    "#df9_AZ = df9[df9['StateCode']== 'AZ']\n",
    "#df9_NM = df9[df9['StateCode']== 'NM']\n",
    "#df9_TX = df9[df9['StateCode']== 'TX']\n",
    "#df9_CA.head(1)\n",
    "#df9_CA_new = df9_CA[['Data']].sum(axis=1).where(df['MSN'].astype(str).str[0:3], 0)"
   ]
  },
  {
   "cell_type": "code",
   "execution_count": null,
   "metadata": {
    "collapsed": true
   },
   "outputs": [],
   "source": []
  }
 ],
 "metadata": {
  "anaconda-cloud": {},
  "kernelspec": {
   "display_name": "Python [default]",
   "language": "python",
   "name": "python3"
  },
  "language_info": {
   "codemirror_mode": {
    "name": "ipython",
    "version": 3
   },
   "file_extension": ".py",
   "mimetype": "text/x-python",
   "name": "python",
   "nbconvert_exporter": "python",
   "pygments_lexer": "ipython3",
   "version": "3.5.2"
  }
 },
 "nbformat": 4,
 "nbformat_minor": 1
}
